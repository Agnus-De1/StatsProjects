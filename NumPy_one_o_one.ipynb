{
 "cells": [
  {
   "cell_type": "markdown",
   "id": "78591939-d513-4e34-8563-9b4c234403b7",
   "metadata": {
    "id": "78591939-d513-4e34-8563-9b4c234403b7"
   },
   "source": [
    "# NumPy\n",
    "\n",
    "**NumpPy** significa **Numerical Python**, es una librería (paquete) que permite trabajar con grandes cantidades\n",
    "de datos numéricos de forma fácil y muy eficiente.  \n",
    "Con ella podréis construir vectores, matrices y tensores empleando `np.array`.\n",
    "\n",
    "La documentación, que está muy bien, la puedes encontrar en https://numpy.org."
   ]
  },
  {
   "cell_type": "markdown",
   "id": "f44b9377-44f7-476b-9cae-7700b49dbced",
   "metadata": {
    "id": "f44b9377-44f7-476b-9cae-7700b49dbced"
   },
   "source": [
    "## 0. Lo primero es importar el paquete\n",
    "Tras importarlo, podrás usar su funcionalidad a través de `np.lo_que_sea`."
   ]
  },
  {
   "cell_type": "code",
   "execution_count": 1,
   "id": "a2bd4b11-edf9-435e-bb0d-6b4edeff5094",
   "metadata": {
    "id": "a2bd4b11-edf9-435e-bb0d-6b4edeff5094"
   },
   "outputs": [],
   "source": [
    "import numpy as np"
   ]
  },
  {
   "cell_type": "markdown",
   "id": "39722dd0-7e8c-4fef-a236-b969a6bd47d8",
   "metadata": {
    "id": "39722dd0-7e8c-4fef-a236-b969a6bd47d8"
   },
   "source": [
    "---\n",
    "## 1. Introducción"
   ]
  },
  {
   "cell_type": "markdown",
   "id": "13ed71cd-ec9e-49aa-ac2a-ff25f13cd86a",
   "metadata": {
    "id": "13ed71cd-ec9e-49aa-ac2a-ff25f13cd86a"
   },
   "source": [
    "#### Ejercicio\n",
    "- Crea un `np.array` con `lista_py`.\n",
    "- Suma 10 a todos los elementos de la lista.\n",
    "- Suma 10 a todos los elementos del array."
   ]
  },
  {
   "cell_type": "code",
   "execution_count": 2,
   "id": "0dff3de2-b610-4152-9580-fc9f333176bd",
   "metadata": {
    "colab": {
     "base_uri": "https://localhost:8080/"
    },
    "id": "0dff3de2-b610-4152-9580-fc9f333176bd",
    "outputId": "ad4ffe34-df3b-4e31-9d80-524c76683348"
   },
   "outputs": [
    {
     "data": {
      "text/plain": [
       "[7, 2, 4, 1, 3]"
      ]
     },
     "execution_count": 2,
     "metadata": {},
     "output_type": "execute_result"
    }
   ],
   "source": [
    "lista_py = [ 7, 2, 4, 1, 3 ]\n",
    "\n",
    "lista_py"
   ]
  },
  {
   "cell_type": "code",
   "execution_count": 3,
   "id": "c50ce835-3226-43eb-ad25-cb480f599e43",
   "metadata": {
    "colab": {
     "base_uri": "https://localhost:8080/"
    },
    "id": "c50ce835-3226-43eb-ad25-cb480f599e43",
    "outputId": "3f176a52-05e9-4134-8160-a992e7639012"
   },
   "outputs": [
    {
     "data": {
      "text/plain": [
       "[17, 12, 14, 11, 13]"
      ]
     },
     "execution_count": 3,
     "metadata": {},
     "output_type": "execute_result"
    }
   ],
   "source": [
    "# usando list comprehension\n",
    "\n",
    "lista2 = [ x + 10 for x in lista_py ]\n",
    "\n",
    "lista2"
   ]
  },
  {
   "cell_type": "code",
   "execution_count": 4,
   "id": "3a348685-b81b-4af4-a975-a6bad46ad50f",
   "metadata": {
    "colab": {
     "base_uri": "https://localhost:8080/"
    },
    "id": "3a348685-b81b-4af4-a975-a6bad46ad50f",
    "outputId": "42d5cdb4-957b-45d1-9c7c-3f30beffdcc9"
   },
   "outputs": [
    {
     "data": {
      "text/plain": [
       "[17, 12, 14, 11, 13]"
      ]
     },
     "execution_count": 4,
     "metadata": {},
     "output_type": "execute_result"
    }
   ],
   "source": [
    "# usando un bucle\n",
    "\n",
    "lista3 = []\n",
    "\n",
    "for numero in lista_py:\n",
    "  lista3.append(numero + 10)\n",
    "\n",
    "lista3"
   ]
  },
  {
   "cell_type": "code",
   "execution_count": 5,
   "id": "6761f9ff-667e-478a-b6a3-6523556ab4ea",
   "metadata": {
    "colab": {
     "base_uri": "https://localhost:8080/"
    },
    "id": "6761f9ff-667e-478a-b6a3-6523556ab4ea",
    "outputId": "ccc31e4d-dd79-4efc-df11-2eaf90b6f81e"
   },
   "outputs": [
    {
     "data": {
      "text/plain": [
       "array([7, 2, 4, 1, 3])"
      ]
     },
     "execution_count": 5,
     "metadata": {},
     "output_type": "execute_result"
    }
   ],
   "source": [
    "# creo array en numpy\n",
    "\n",
    "lista_np = np.array(lista_py)\n",
    "\n",
    "lista_np"
   ]
  },
  {
   "cell_type": "code",
   "execution_count": 6,
   "id": "26CMZpbwFUHZ",
   "metadata": {
    "colab": {
     "base_uri": "https://localhost:8080/"
    },
    "id": "26CMZpbwFUHZ",
    "outputId": "4f3561cf-47ca-49f7-d159-10e8e74fd10d"
   },
   "outputs": [
    {
     "data": {
      "text/plain": [
       "array([17, 12, 14, 11, 13])"
      ]
     },
     "execution_count": 6,
     "metadata": {},
     "output_type": "execute_result"
    }
   ],
   "source": [
    "# usando numpy!\n",
    "\n",
    "lista_np + 10"
   ]
  },
  {
   "cell_type": "markdown",
   "id": "6dfd5cef-b4be-40d0-a70a-4e100abfc3ba",
   "metadata": {
    "id": "6dfd5cef-b4be-40d0-a70a-4e100abfc3ba"
   },
   "source": [
    "#### Ejercicio\n",
    "- Calcula la media de la lista.\n",
    "- Calcula la media del array."
   ]
  },
  {
   "cell_type": "code",
   "execution_count": 7,
   "id": "d9511dd9-021e-4be7-970d-8166bb02be34",
   "metadata": {
    "colab": {
     "base_uri": "https://localhost:8080/"
    },
    "id": "d9511dd9-021e-4be7-970d-8166bb02be34",
    "outputId": "6bdeb8c1-1b80-47a5-b192-92ff8d8aca9c"
   },
   "outputs": [
    {
     "data": {
      "text/plain": [
       "3.4"
      ]
     },
     "execution_count": 7,
     "metadata": {},
     "output_type": "execute_result"
    }
   ],
   "source": [
    "# calculo media en python con un bucle\n",
    "\n",
    "def media(lista):\n",
    "\n",
    "  N = len(lista)\n",
    "  acumulado = 0\n",
    "  for numero in lista:\n",
    "    acumulado = acumulado + numero\n",
    "\n",
    "  return acumulado / N\n",
    "\n",
    "media(lista_py)"
   ]
  },
  {
   "cell_type": "code",
   "execution_count": 8,
   "id": "df2ab882-01b9-4f6b-bd12-c620ebd98eb1",
   "metadata": {},
   "outputs": [],
   "source": [
    "# otra forma\n",
    "\n",
    "def media(lista):\n",
    "    return sum(lista) / len(lista)"
   ]
  },
  {
   "cell_type": "code",
   "execution_count": 9,
   "id": "122f0268-29c2-4bf1-ad5e-5f8421bda5be",
   "metadata": {
    "colab": {
     "base_uri": "https://localhost:8080/"
    },
    "id": "122f0268-29c2-4bf1-ad5e-5f8421bda5be",
    "outputId": "c0a5e91d-4cc5-4b8d-d652-7ecb84510545"
   },
   "outputs": [
    {
     "data": {
      "text/plain": [
       "3.4"
      ]
     },
     "execution_count": 9,
     "metadata": {},
     "output_type": "execute_result"
    }
   ],
   "source": [
    "# usando numpy!\n",
    "\n",
    "np.mean(lista_np)"
   ]
  },
  {
   "cell_type": "markdown",
   "id": "3ef27a39-a826-4164-a8d0-fd15a3555564",
   "metadata": {
    "id": "3ef27a39-a826-4164-a8d0-fd15a3555564"
   },
   "source": [
    "---\n",
    "## Arrays de NumPy"
   ]
  },
  {
   "cell_type": "markdown",
   "id": "64e6da55-b34e-4bc2-b6de-d9f62cacc6ad",
   "metadata": {
    "id": "64e6da55-b34e-4bc2-b6de-d9f62cacc6ad"
   },
   "source": [
    "#### Ejercicio\n",
    "Crea los siguientes arrays:\n",
    "- Un array que contenga 8 ceros.\n",
    "- Un array que contenga 5 unos.\n",
    "- Un array cuyos elementos vayan desde el 1 al 10, incrementando de uno en uno.\n",
    "- Un array con 11 elementos, cuyos valores empiecen en 0 y acaben en 5."
   ]
  },
  {
   "cell_type": "code",
   "execution_count": 10,
   "id": "18d939c0-0ec7-4f67-a765-02822fb68362",
   "metadata": {
    "colab": {
     "base_uri": "https://localhost:8080/"
    },
    "id": "18d939c0-0ec7-4f67-a765-02822fb68362",
    "outputId": "0ff85e5c-a78b-4fda-fec8-083730b4620d"
   },
   "outputs": [
    {
     "data": {
      "text/plain": [
       "array([0., 0., 0., 0., 0., 0., 0., 0.])"
      ]
     },
     "execution_count": 10,
     "metadata": {},
     "output_type": "execute_result"
    }
   ],
   "source": [
    "ceros = np.zeros(8)\n",
    "\n",
    "ceros"
   ]
  },
  {
   "cell_type": "code",
   "execution_count": 11,
   "id": "46fa426b-4a9b-44ff-9d3e-b3124472475f",
   "metadata": {
    "colab": {
     "base_uri": "https://localhost:8080/"
    },
    "id": "46fa426b-4a9b-44ff-9d3e-b3124472475f",
    "outputId": "e86649bc-da3b-4e46-cf58-2fbd48988a20"
   },
   "outputs": [
    {
     "data": {
      "text/plain": [
       "array([1., 1., 1., 1., 1.])"
      ]
     },
     "execution_count": 11,
     "metadata": {},
     "output_type": "execute_result"
    }
   ],
   "source": [
    "unos = np.ones(5)\n",
    "\n",
    "unos"
   ]
  },
  {
   "cell_type": "code",
   "execution_count": 12,
   "id": "401e5f1e-a90b-4384-8d60-38f59a920ee2",
   "metadata": {
    "colab": {
     "base_uri": "https://localhost:8080/"
    },
    "id": "401e5f1e-a90b-4384-8d60-38f59a920ee2",
    "outputId": "c38aceb2-0796-47b3-aa87-4bf0aa34bd05"
   },
   "outputs": [
    {
     "data": {
      "text/plain": [
       "array([ 1,  2,  3,  4,  5,  6,  7,  8,  9, 10])"
      ]
     },
     "execution_count": 12,
     "metadata": {},
     "output_type": "execute_result"
    }
   ],
   "source": [
    "rango = np.arange(1, 11)\n",
    "\n",
    "rango"
   ]
  },
  {
   "cell_type": "code",
   "execution_count": 13,
   "id": "260963f3-8dd2-49ef-974e-975b5fbcd80e",
   "metadata": {
    "colab": {
     "base_uri": "https://localhost:8080/"
    },
    "id": "260963f3-8dd2-49ef-974e-975b5fbcd80e",
    "outputId": "ea17ba8c-4ee6-4a21-b314-204a198b86d9"
   },
   "outputs": [
    {
     "data": {
      "text/plain": [
       "array([0. , 0.5, 1. , 1.5, 2. , 2.5, 3. , 3.5, 4. , 4.5, 5. ])"
      ]
     },
     "execution_count": 13,
     "metadata": {},
     "output_type": "execute_result"
    }
   ],
   "source": [
    "lineal = np.linspace(0,5, 11)\n",
    "\n",
    "lineal"
   ]
  },
  {
   "cell_type": "markdown",
   "id": "97b09d97-a0fd-40a2-9550-a05568f94edb",
   "metadata": {
    "id": "97b09d97-a0fd-40a2-9550-a05568f94edb"
   },
   "source": [
    "---\n",
    "## Exploremos más operaciones básicas"
   ]
  },
  {
   "cell_type": "markdown",
   "id": "6e67fe6e-a38f-4138-9c4a-a67d3e636139",
   "metadata": {
    "id": "6e67fe6e-a38f-4138-9c4a-a67d3e636139"
   },
   "source": [
    "#### Ejercicio\n",
    "\n",
    "Para el array de `edades`, calcula lo siguiente:\n",
    "\n",
    "- media.\n",
    "- mediana.\n",
    "- desviación típica.\n",
    "- máximo\n",
    "- mínimo.\n",
    "- Imprime los valores mayores de 18.\n",
    "- Selecciona las tres primeras edades (por la izquierda).\n",
    "- Selecciona las tres últimas (por la derecha)."
   ]
  },
  {
   "cell_type": "code",
   "execution_count": 14,
   "id": "c6ec48bc-ded2-4746-bfe5-efc27c0c7049",
   "metadata": {
    "id": "c6ec48bc-ded2-4746-bfe5-efc27c0c7049"
   },
   "outputs": [],
   "source": [
    "edades = [ 15, 56, 33, 12, 21, 53, 7, 32, 8, 45, 66, 4 ]"
   ]
  },
  {
   "cell_type": "code",
   "execution_count": 15,
   "id": "a1a3213c-6c8c-46a4-8d8d-3842089d7cfc",
   "metadata": {
    "id": "a1a3213c-6c8c-46a4-8d8d-3842089d7cfc"
   },
   "outputs": [],
   "source": [
    "edades_np = np.array(edades)"
   ]
  },
  {
   "cell_type": "code",
   "execution_count": 16,
   "id": "ac9210f7-baaa-4b47-8aa3-d87b1a1cd667",
   "metadata": {
    "colab": {
     "base_uri": "https://localhost:8080/"
    },
    "id": "ac9210f7-baaa-4b47-8aa3-d87b1a1cd667",
    "outputId": "f36e92e5-7bc5-4eaf-e190-5119832ae91a"
   },
   "outputs": [
    {
     "data": {
      "text/plain": [
       "29.333333333333332"
      ]
     },
     "execution_count": 16,
     "metadata": {},
     "output_type": "execute_result"
    }
   ],
   "source": [
    "np.mean(edades_np)"
   ]
  },
  {
   "cell_type": "code",
   "execution_count": 17,
   "id": "fcb1be14-fad2-4a26-a025-d84282a87903",
   "metadata": {
    "colab": {
     "base_uri": "https://localhost:8080/"
    },
    "id": "fcb1be14-fad2-4a26-a025-d84282a87903",
    "outputId": "77a946fd-b4a1-435a-ef96-318351ca4ac4"
   },
   "outputs": [
    {
     "data": {
      "text/plain": [
       "26.5"
      ]
     },
     "execution_count": 17,
     "metadata": {},
     "output_type": "execute_result"
    }
   ],
   "source": [
    "np.median(edades_np)"
   ]
  },
  {
   "cell_type": "code",
   "execution_count": 18,
   "id": "15a4c1c0-e065-4a73-9fa3-5e44bd588d2c",
   "metadata": {
    "colab": {
     "base_uri": "https://localhost:8080/"
    },
    "id": "15a4c1c0-e065-4a73-9fa3-5e44bd588d2c",
    "outputId": "68517ca7-312b-4ac8-b3cd-cea6d93e88b5"
   },
   "outputs": [
    {
     "data": {
      "text/plain": [
       "20.51963829007606"
      ]
     },
     "execution_count": 18,
     "metadata": {},
     "output_type": "execute_result"
    }
   ],
   "source": [
    "np.std(edades_np)"
   ]
  },
  {
   "cell_type": "code",
   "execution_count": 19,
   "id": "b791fc8c-c8be-47e6-9e5e-31609f1fdbf2",
   "metadata": {
    "colab": {
     "base_uri": "https://localhost:8080/"
    },
    "id": "b791fc8c-c8be-47e6-9e5e-31609f1fdbf2",
    "outputId": "ac12fda8-f20a-438f-9553-f032ce1361be"
   },
   "outputs": [
    {
     "data": {
      "text/plain": [
       "66"
      ]
     },
     "execution_count": 19,
     "metadata": {},
     "output_type": "execute_result"
    }
   ],
   "source": [
    "np.max(edades_np)"
   ]
  },
  {
   "cell_type": "code",
   "execution_count": 20,
   "id": "cac3ac23-36e8-47b4-b86f-6c17e3d110ec",
   "metadata": {
    "colab": {
     "base_uri": "https://localhost:8080/"
    },
    "id": "cac3ac23-36e8-47b4-b86f-6c17e3d110ec",
    "outputId": "026c841e-658a-485c-f120-a8ac0299fdae"
   },
   "outputs": [
    {
     "data": {
      "text/plain": [
       "4"
      ]
     },
     "execution_count": 20,
     "metadata": {},
     "output_type": "execute_result"
    }
   ],
   "source": [
    "np.min(edades_np)"
   ]
  },
  {
   "cell_type": "code",
   "execution_count": 21,
   "id": "97051056-2ae1-4830-93d4-bb6ff83cacad",
   "metadata": {
    "colab": {
     "base_uri": "https://localhost:8080/"
    },
    "id": "97051056-2ae1-4830-93d4-bb6ff83cacad",
    "outputId": "8cc7cb96-ad4b-4819-fa13-1d17cdf65a29"
   },
   "outputs": [
    {
     "data": {
      "text/plain": [
       "array([56, 33, 21, 53, 32, 45, 66])"
      ]
     },
     "execution_count": 21,
     "metadata": {},
     "output_type": "execute_result"
    }
   ],
   "source": [
    "edades_np [ edades_np > 18 ]"
   ]
  },
  {
   "cell_type": "code",
   "execution_count": 22,
   "id": "GzDz6Wv6Msbf",
   "metadata": {
    "colab": {
     "base_uri": "https://localhost:8080/"
    },
    "id": "GzDz6Wv6Msbf",
    "outputId": "4f486a8d-9d62-4a6d-80c1-3cebab9994ef"
   },
   "outputs": [
    {
     "data": {
      "text/plain": [
       "array([15, 56, 33])"
      ]
     },
     "execution_count": 22,
     "metadata": {},
     "output_type": "execute_result"
    }
   ],
   "source": [
    "edades_np[:3]"
   ]
  },
  {
   "cell_type": "code",
   "execution_count": 23,
   "id": "e69ef86c-0442-42d8-94c0-52113c4f5871",
   "metadata": {},
   "outputs": [
    {
     "data": {
      "text/plain": [
       "array([45, 66,  4])"
      ]
     },
     "execution_count": 23,
     "metadata": {},
     "output_type": "execute_result"
    }
   ],
   "source": [
    "edades_np[-3:]"
   ]
  },
  {
   "cell_type": "markdown",
   "id": "f381fc08-2fe4-4641-8490-0a338cd23522",
   "metadata": {
    "id": "f381fc08-2fe4-4641-8490-0a338cd23522"
   },
   "source": [
    "---\n",
    "## Vectorización"
   ]
  },
  {
   "cell_type": "markdown",
   "id": "aa9c70f8-33af-44dd-8c09-1079b15c8c3b",
   "metadata": {
    "id": "aa9c70f8-33af-44dd-8c09-1079b15c8c3b"
   },
   "source": [
    "#### Ejercicio\n",
    "\n",
    "Vamos a calcular el siguiente ratio financiero a partir de datos trimestrales:\n",
    "\n",
    "$$\\frac{EV}{EBIDTA}=\\frac{Capitalizacion\\ De\\ Mercado + Deuda\\ Total - Caja\\ y\\ Equivalentes}{EBITDA}$$"
   ]
  },
  {
   "cell_type": "code",
   "execution_count": 24,
   "id": "491e104a-b368-4ef7-a682-93a9b8b59b46",
   "metadata": {
    "id": "491e104a-b368-4ef7-a682-93a9b8b59b46"
   },
   "outputs": [],
   "source": [
    "market_cap = [ 1100, 1200, 1050, 1200 ]\n",
    "debt       = [  100,  100,  110,  110 ]\n",
    "cash       = [   23,   17,   21,   15 ]\n",
    "ebitda     = [  107,  121,  113,   99 ]"
   ]
  },
  {
   "cell_type": "code",
   "execution_count": 25,
   "id": "7a92fd18-03df-4644-acbc-be2459f45745",
   "metadata": {
    "colab": {
     "base_uri": "https://localhost:8080/"
    },
    "id": "7a92fd18-03df-4644-acbc-be2459f45745",
    "outputId": "27c5d1bf-03d6-4117-e894-455104d5a4c5"
   },
   "outputs": [
    {
     "data": {
      "text/plain": [
       "array([11.        , 10.60330579, 10.07964602, 13.08080808])"
      ]
     },
     "execution_count": 25,
     "metadata": {},
     "output_type": "execute_result"
    }
   ],
   "source": [
    "market_cap_np = np.array(market_cap)\n",
    "debt_np       = np.array(debt)\n",
    "cash_np       = np.array(cash)\n",
    "ebitda_np     = np.array(ebitda)\n",
    "\n",
    "ratio = (market_cap_np + debt_np - cash_np) / ebitda_np\n",
    "\n",
    "ratio"
   ]
  },
  {
   "cell_type": "markdown",
   "id": "a10a83b8-a0ea-46bb-8364-8e101d816d52",
   "metadata": {
    "id": "a10a83b8-a0ea-46bb-8364-8e101d816d52"
   },
   "source": [
    "---\n",
    "## Slicing"
   ]
  },
  {
   "cell_type": "markdown",
   "id": "2eda2c96-a6cf-4404-b58b-ee2eac8089d0",
   "metadata": {
    "id": "2eda2c96-a6cf-4404-b58b-ee2eac8089d0"
   },
   "source": [
    "#### Ejercicio\n",
    "\n",
    "Dada la siguiente lista de `precios` anuales:\n",
    "- Recupera los 3 primeros.\n",
    "- Recupera los 3 últimos.\n",
    "- Dale la vuelta (que empiece por último elemento y acabe en el primero).\n",
    "- Calcula los `retornos` anuales:\n",
    "\n",
    "$$R_t = \\frac{ p_t - p_{t-1}}{p_{t-1}}$$"
   ]
  },
  {
   "cell_type": "code",
   "execution_count": 26,
   "id": "5d72fc2d-5436-441d-bec8-dfc1eb73a15b",
   "metadata": {
    "id": "5d72fc2d-5436-441d-bec8-dfc1eb73a15b"
   },
   "outputs": [],
   "source": [
    "precios = [ 95.7, 105.1, 101.7, 107.0, 93.9, 100.9, 105.9, 108.1, 100.4, 105.1 ]"
   ]
  },
  {
   "cell_type": "code",
   "execution_count": 27,
   "id": "0b50374c-fb79-4311-9e91-6e387c67c2d1",
   "metadata": {
    "id": "0b50374c-fb79-4311-9e91-6e387c67c2d1"
   },
   "outputs": [
    {
     "data": {
      "text/plain": [
       "[95.7, 105.1, 101.7]"
      ]
     },
     "execution_count": 27,
     "metadata": {},
     "output_type": "execute_result"
    }
   ],
   "source": [
    "precios[:3]"
   ]
  },
  {
   "cell_type": "code",
   "execution_count": 28,
   "id": "00132f77-909c-457d-9653-55c8162820df",
   "metadata": {
    "id": "00132f77-909c-457d-9653-55c8162820df"
   },
   "outputs": [
    {
     "data": {
      "text/plain": [
       "[108.1, 100.4, 105.1]"
      ]
     },
     "execution_count": 28,
     "metadata": {},
     "output_type": "execute_result"
    }
   ],
   "source": [
    "precios[-3:]"
   ]
  },
  {
   "cell_type": "code",
   "execution_count": 29,
   "id": "bbeacf15-9c36-49ae-9630-c40da98ba530",
   "metadata": {
    "id": "bbeacf15-9c36-49ae-9630-c40da98ba530"
   },
   "outputs": [
    {
     "data": {
      "text/plain": [
       "[105.1, 100.4, 108.1, 105.9, 100.9, 93.9, 107.0, 101.7, 105.1, 95.7]"
      ]
     },
     "execution_count": 29,
     "metadata": {},
     "output_type": "execute_result"
    }
   ],
   "source": [
    "precios[::-1]"
   ]
  },
  {
   "cell_type": "code",
   "execution_count": 30,
   "id": "ad8d6838-2345-438b-88bf-63255517017c",
   "metadata": {
    "id": "ad8d6838-2345-438b-88bf-63255517017c"
   },
   "outputs": [
    {
     "data": {
      "text/plain": [
       "array([ 0.09822362, -0.03235014,  0.05211406, -0.12242991,  0.07454739,\n",
       "        0.04955401,  0.02077432, -0.07123034,  0.04681275])"
      ]
     },
     "execution_count": 30,
     "metadata": {},
     "output_type": "execute_result"
    }
   ],
   "source": [
    "precios_np = np.array(precios)\n",
    "\n",
    "# No podemos calcular el primer retorno (sería la posición 0) ya que el \"t-1\" no está definido.\n",
    "# Así que siguientes retornos son empezando en el segundo día.\n",
    "retornos = (precios_np[1:] - precios_np[:-1]) / precios_np[:-1]\n",
    "retornos"
   ]
  },
  {
   "cell_type": "markdown",
   "id": "46be3004-1f3b-4271-a2b6-66c17788afcc",
   "metadata": {
    "id": "46be3004-1f3b-4271-a2b6-66c17788afcc"
   },
   "source": [
    "---\n",
    "## Números aleatorios"
   ]
  },
  {
   "cell_type": "markdown",
   "id": "8d2645da-501f-45f4-b9fe-a1e214a246cd",
   "metadata": {
    "id": "8d2645da-501f-45f4-b9fe-a1e214a246cd"
   },
   "source": [
    "#### Ejercicio\n",
    "Genera 5 números aleatorios enteros entre 0 y 100."
   ]
  },
  {
   "cell_type": "code",
   "execution_count": 31,
   "id": "ea1c659c-92d2-449a-abfe-81a8cb64825c",
   "metadata": {
    "colab": {
     "base_uri": "https://localhost:8080/"
    },
    "id": "ea1c659c-92d2-449a-abfe-81a8cb64825c",
    "outputId": "d1244da9-91b2-4995-8c43-c74677c2d891"
   },
   "outputs": [
    {
     "data": {
      "text/plain": [
       "array([76, 76, 81, 82, 98])"
      ]
     },
     "execution_count": 31,
     "metadata": {},
     "output_type": "execute_result"
    }
   ],
   "source": [
    "np.random.randint(0, 100+1, 5)"
   ]
  },
  {
   "cell_type": "markdown",
   "id": "18ead3cc-fce6-4c3b-8411-ef6265977dac",
   "metadata": {
    "id": "18ead3cc-fce6-4c3b-8411-ef6265977dac"
   },
   "source": [
    "#### Ejercicio\n",
    "El peso de los estudiantes de Comillas se distribuye como la siguiente normal: $Peso \\sim \\mathcal{N}(\\mu=50, \\sigma=10)$.\n",
    "\n",
    "Genera 10 medidas de peso aleatorias que sigan dicha distribución. Recuerda:\n",
    "\n",
    "$$\\frac{Peso - \\mu}{\\sigma} \\sim \\mathcal{N}(0, 1)$$"
   ]
  },
  {
   "cell_type": "code",
   "execution_count": 32,
   "id": "bd768824-0990-4de6-9eb5-7e328646682e",
   "metadata": {
    "colab": {
     "base_uri": "https://localhost:8080/"
    },
    "id": "bd768824-0990-4de6-9eb5-7e328646682e",
    "outputId": "62dc2400-4535-403e-f3ba-b8adbb92a5e0"
   },
   "outputs": [
    {
     "data": {
      "text/plain": [
       "array([43.2129322 , 46.95577544, 34.9779394 , 54.98827637, 45.90914518,\n",
       "       43.82112678, 51.23962375, 53.09857411, 54.70631155, 48.32990847])"
      ]
     },
     "execution_count": 32,
     "metadata": {},
     "output_type": "execute_result"
    }
   ],
   "source": [
    "normal = np.random.randn(10)\n",
    "pesos = 10*normal + 50\n",
    "\n",
    "pesos"
   ]
  },
  {
   "cell_type": "markdown",
   "id": "0c467157-aad1-4bef-9e34-0edd23d554e5",
   "metadata": {
    "id": "0c467157-aad1-4bef-9e34-0edd23d554e5"
   },
   "source": [
    "---\n",
    "---\n",
    "## Matrices"
   ]
  },
  {
   "cell_type": "markdown",
   "id": "0c33efc7-7420-49df-8ef3-add2127bd114",
   "metadata": {
    "id": "0c33efc7-7420-49df-8ef3-add2127bd114"
   },
   "source": [
    "#### Ejercicio\n",
    "\n",
    "Crea una matriz de numpy a partir de esta lista de listas:"
   ]
  },
  {
   "cell_type": "code",
   "execution_count": 33,
   "id": "14f46228-649f-4a11-8aa3-1dd342a48a4c",
   "metadata": {
    "id": "14f46228-649f-4a11-8aa3-1dd342a48a4c"
   },
   "outputs": [],
   "source": [
    "datos = [ [ 1, 2, 3],\n",
    "          [ 4, 5, 6],\n",
    "          [ 7, 8, 9] ]"
   ]
  },
  {
   "cell_type": "code",
   "execution_count": 34,
   "id": "754dc23f-829c-48d8-8481-815e51e3382f",
   "metadata": {
    "colab": {
     "base_uri": "https://localhost:8080/"
    },
    "id": "754dc23f-829c-48d8-8481-815e51e3382f",
    "outputId": "bc5fc4a4-82b8-4141-d22d-5e7797fed967"
   },
   "outputs": [
    {
     "data": {
      "text/plain": [
       "array([[1, 2, 3],\n",
       "       [4, 5, 6],\n",
       "       [7, 8, 9]])"
      ]
     },
     "execution_count": 34,
     "metadata": {},
     "output_type": "execute_result"
    }
   ],
   "source": [
    "datos_np = np.array(datos)\n",
    "\n",
    "datos_np"
   ]
  },
  {
   "cell_type": "markdown",
   "id": "66adc76e-035b-4142-8341-fd34bdd79c07",
   "metadata": {
    "id": "66adc76e-035b-4142-8341-fd34bdd79c07"
   },
   "source": [
    "#### Ejercicio\n",
    "Imprime `shape`, `size`, `ndim`de la matriz anterior."
   ]
  },
  {
   "cell_type": "code",
   "execution_count": 35,
   "id": "d513ad3a-d3f2-4b8c-a016-7cbcc42b26ff",
   "metadata": {
    "colab": {
     "base_uri": "https://localhost:8080/"
    },
    "id": "d513ad3a-d3f2-4b8c-a016-7cbcc42b26ff",
    "outputId": "6d3e3e3b-7cd7-4001-e5c5-770aabb8c0fe"
   },
   "outputs": [
    {
     "data": {
      "text/plain": [
       "(3, 3)"
      ]
     },
     "execution_count": 35,
     "metadata": {},
     "output_type": "execute_result"
    }
   ],
   "source": [
    "datos_np.shape"
   ]
  },
  {
   "cell_type": "code",
   "execution_count": 36,
   "id": "40a2a3e6-dcaf-41c1-8fdf-338b968ab58d",
   "metadata": {
    "colab": {
     "base_uri": "https://localhost:8080/"
    },
    "id": "40a2a3e6-dcaf-41c1-8fdf-338b968ab58d",
    "outputId": "ac8122c3-f2d8-4de5-e503-60f532461567"
   },
   "outputs": [
    {
     "data": {
      "text/plain": [
       "9"
      ]
     },
     "execution_count": 36,
     "metadata": {},
     "output_type": "execute_result"
    }
   ],
   "source": [
    "datos_np.size"
   ]
  },
  {
   "cell_type": "code",
   "execution_count": 37,
   "id": "a0c4a6f6-ee52-4370-9c22-a6b547b08897",
   "metadata": {
    "colab": {
     "base_uri": "https://localhost:8080/"
    },
    "id": "a0c4a6f6-ee52-4370-9c22-a6b547b08897",
    "outputId": "b91670cd-dfe6-4120-8c48-d55160aa90cc"
   },
   "outputs": [
    {
     "data": {
      "text/plain": [
       "2"
      ]
     },
     "execution_count": 37,
     "metadata": {},
     "output_type": "execute_result"
    }
   ],
   "source": [
    "datos_np.ndim"
   ]
  },
  {
   "cell_type": "markdown",
   "id": "251be2e2-b2d2-48b4-a2dc-c920a3a8e45b",
   "metadata": {
    "id": "251be2e2-b2d2-48b4-a2dc-c920a3a8e45b"
   },
   "source": [
    "#### Ejercicio\n",
    "Crea las siguientes matrices **4x4**:\n",
    "- Todo ceros.\n",
    "- Todo unos.\n",
    "- Matriz identidad (diagonal a 1, resto a 0)."
   ]
  },
  {
   "cell_type": "code",
   "execution_count": 38,
   "id": "adb22671-d749-4f82-802d-0e0f745ec4df",
   "metadata": {
    "colab": {
     "base_uri": "https://localhost:8080/"
    },
    "id": "adb22671-d749-4f82-802d-0e0f745ec4df",
    "outputId": "a35ca602-6df1-4fa9-a62a-b216c1c47585"
   },
   "outputs": [
    {
     "data": {
      "text/plain": [
       "array([[0., 0., 0., 0.],\n",
       "       [0., 0., 0., 0.],\n",
       "       [0., 0., 0., 0.],\n",
       "       [0., 0., 0., 0.]])"
      ]
     },
     "execution_count": 38,
     "metadata": {},
     "output_type": "execute_result"
    }
   ],
   "source": [
    "np.zeros((4,4))"
   ]
  },
  {
   "cell_type": "code",
   "execution_count": 39,
   "id": "8e0b6e2d-4108-4b76-8db6-1ef46097ed1b",
   "metadata": {
    "colab": {
     "base_uri": "https://localhost:8080/"
    },
    "id": "8e0b6e2d-4108-4b76-8db6-1ef46097ed1b",
    "outputId": "67b219bc-ff72-4044-f92e-ee9d21a03470"
   },
   "outputs": [
    {
     "data": {
      "text/plain": [
       "array([[1., 1., 1., 1.],\n",
       "       [1., 1., 1., 1.],\n",
       "       [1., 1., 1., 1.],\n",
       "       [1., 1., 1., 1.]])"
      ]
     },
     "execution_count": 39,
     "metadata": {},
     "output_type": "execute_result"
    }
   ],
   "source": [
    "np.ones((4,4))"
   ]
  },
  {
   "cell_type": "code",
   "execution_count": 40,
   "id": "6b4b4b43-0cd9-40ed-a78a-f2e776a1dd01",
   "metadata": {
    "colab": {
     "base_uri": "https://localhost:8080/"
    },
    "id": "6b4b4b43-0cd9-40ed-a78a-f2e776a1dd01",
    "outputId": "5b0fcd85-64aa-4ba4-a84c-c973851505a4"
   },
   "outputs": [
    {
     "data": {
      "text/plain": [
       "array([[1., 0., 0., 0.],\n",
       "       [0., 1., 0., 0.],\n",
       "       [0., 0., 1., 0.],\n",
       "       [0., 0., 0., 1.]])"
      ]
     },
     "execution_count": 40,
     "metadata": {},
     "output_type": "execute_result"
    }
   ],
   "source": [
    "np.eye(4)"
   ]
  },
  {
   "cell_type": "markdown",
   "id": "8bd5656e-f03d-4774-98f7-202a64d639a5",
   "metadata": {
    "id": "8bd5656e-f03d-4774-98f7-202a64d639a5"
   },
   "source": [
    "---\n",
    "## Operaciones con matrices"
   ]
  },
  {
   "cell_type": "markdown",
   "id": "3bfa0ef8-8dbd-4516-a3fd-bc1998abf1c4",
   "metadata": {
    "id": "3bfa0ef8-8dbd-4516-a3fd-bc1998abf1c4"
   },
   "source": [
    "#### Ejercicio\n",
    "Para la matriz `A`, calcula lo siguiente:\n",
    "- La suma de las filas.\n",
    "- La suma de las columnas.\n",
    "- Extrae la diagonal."
   ]
  },
  {
   "cell_type": "code",
   "execution_count": 41,
   "id": "81791933-53f5-4f50-ba3a-2211957c4686",
   "metadata": {
    "id": "81791933-53f5-4f50-ba3a-2211957c4686"
   },
   "outputs": [],
   "source": [
    "A = [ [ 7, 4, 3, 2, 6, 6, 7, 0 ],\n",
    "      [ 4, 4, 4, 4, 7, 1, 4, 3 ],\n",
    "      [ 2, 7, 4, 8, 9, 4, 3, 5 ],\n",
    "      [ 0, 9, 7, 1, 8, 0, 5, 4 ],\n",
    "      [ 8, 1, 4, 1, 5, 7, 1, 6 ],\n",
    "      [ 2, 6, 4, 2, 8, 9, 3, 4 ],\n",
    "      [ 6, 7, 0, 3, 8, 1, 1, 7 ],\n",
    "      [ 8, 4, 1, 6, 7, 2, 0, 4 ] ]"
   ]
  },
  {
   "cell_type": "code",
   "execution_count": 42,
   "id": "3728cbb3-54b6-47d8-bb47-f14dd298ecf8",
   "metadata": {
    "colab": {
     "base_uri": "https://localhost:8080/"
    },
    "id": "3728cbb3-54b6-47d8-bb47-f14dd298ecf8",
    "outputId": "c089ae22-f363-4e85-aad0-e3f78296d23c"
   },
   "outputs": [
    {
     "data": {
      "text/plain": [
       "array([35, 31, 42, 34, 33, 38, 33, 32])"
      ]
     },
     "execution_count": 42,
     "metadata": {},
     "output_type": "execute_result"
    }
   ],
   "source": [
    "a = np.array(A)\n",
    "\n",
    "np.sum(a, axis=1)"
   ]
  },
  {
   "cell_type": "code",
   "execution_count": 43,
   "id": "8a7526d0-e64e-404f-a3f6-6b53ff40587d",
   "metadata": {
    "colab": {
     "base_uri": "https://localhost:8080/"
    },
    "id": "8a7526d0-e64e-404f-a3f6-6b53ff40587d",
    "outputId": "a43b271c-37c0-4779-b95c-d3d215e5b981"
   },
   "outputs": [
    {
     "data": {
      "text/plain": [
       "array([37, 42, 27, 27, 58, 30, 24, 33])"
      ]
     },
     "execution_count": 43,
     "metadata": {},
     "output_type": "execute_result"
    }
   ],
   "source": [
    "np.sum(a, axis=0)"
   ]
  },
  {
   "cell_type": "code",
   "execution_count": 44,
   "id": "55add494-f5e3-48a4-81e2-3d742ebc0c11",
   "metadata": {
    "colab": {
     "base_uri": "https://localhost:8080/"
    },
    "id": "55add494-f5e3-48a4-81e2-3d742ebc0c11",
    "outputId": "03531561-bf3b-4a8f-fc9d-07931dca4afe"
   },
   "outputs": [
    {
     "data": {
      "text/plain": [
       "array([7, 4, 4, 1, 5, 9, 1, 4])"
      ]
     },
     "execution_count": 44,
     "metadata": {},
     "output_type": "execute_result"
    }
   ],
   "source": [
    "np.diag(a)"
   ]
  },
  {
   "cell_type": "markdown",
   "id": "98d43093-7e33-4387-9ec7-c1a671996fab",
   "metadata": {
    "id": "98d43093-7e33-4387-9ec7-c1a671996fab"
   },
   "source": [
    "#### Ejercicio\n",
    "\n",
    "Calcula el determinante y la inversa de la matriz `B` y comprueba que el resultado es correcto, es decir, que $[B] \\times [B]^{-1} = [I]$"
   ]
  },
  {
   "cell_type": "code",
   "execution_count": 45,
   "id": "40af5de7-8277-4871-b429-8966d4ddf3e7",
   "metadata": {
    "id": "40af5de7-8277-4871-b429-8966d4ddf3e7"
   },
   "outputs": [],
   "source": [
    "B = [ [ 1, -1,  1 ],\n",
    "      [ 0,  2, -1 ],\n",
    "      [ 2,  3,  0 ] ]"
   ]
  },
  {
   "cell_type": "code",
   "execution_count": 46,
   "id": "310c6b23-552d-4229-aa81-ea4079b5d5a3",
   "metadata": {
    "colab": {
     "base_uri": "https://localhost:8080/"
    },
    "id": "310c6b23-552d-4229-aa81-ea4079b5d5a3",
    "outputId": "c738ae2e-db2c-4f89-cd32-19090b56bb2b"
   },
   "outputs": [
    {
     "data": {
      "text/plain": [
       "array([[ 1, -1,  1],\n",
       "       [ 0,  2, -1],\n",
       "       [ 2,  3,  0]])"
      ]
     },
     "execution_count": 46,
     "metadata": {},
     "output_type": "execute_result"
    }
   ],
   "source": [
    "b = np.array(B)\n",
    "\n",
    "b"
   ]
  },
  {
   "cell_type": "code",
   "execution_count": 47,
   "id": "18b03dcb-a83d-4a6f-bf0b-8172668241c0",
   "metadata": {
    "colab": {
     "base_uri": "https://localhost:8080/"
    },
    "id": "18b03dcb-a83d-4a6f-bf0b-8172668241c0",
    "outputId": "00f5227f-92ec-4d99-ab29-d87130018f4c"
   },
   "outputs": [
    {
     "data": {
      "text/plain": [
       "1.0"
      ]
     },
     "execution_count": 47,
     "metadata": {},
     "output_type": "execute_result"
    }
   ],
   "source": [
    "np.linalg.det(b)"
   ]
  },
  {
   "cell_type": "code",
   "execution_count": 48,
   "id": "4f14c5cf-cf3d-4326-b8d8-9b493d487a46",
   "metadata": {
    "colab": {
     "base_uri": "https://localhost:8080/"
    },
    "id": "4f14c5cf-cf3d-4326-b8d8-9b493d487a46",
    "outputId": "c0de98e3-57a6-4ef4-d534-b87c728f6c94"
   },
   "outputs": [
    {
     "data": {
      "text/plain": [
       "array([[ 3.,  3., -1.],\n",
       "       [-2., -2.,  1.],\n",
       "       [-4., -5.,  2.]])"
      ]
     },
     "execution_count": 48,
     "metadata": {},
     "output_type": "execute_result"
    }
   ],
   "source": [
    "b_inv = np.linalg.inv(b)\n",
    "b_inv"
   ]
  },
  {
   "cell_type": "code",
   "execution_count": 49,
   "id": "7vnOVc-wnBqh",
   "metadata": {
    "colab": {
     "base_uri": "https://localhost:8080/"
    },
    "id": "7vnOVc-wnBqh",
    "outputId": "08b3928d-f9ca-4203-9de6-02500ed276c5"
   },
   "outputs": [
    {
     "data": {
      "text/plain": [
       "array([[ 1.0000000e+00,  8.8817842e-16, -4.4408921e-16],\n",
       "       [ 0.0000000e+00,  1.0000000e+00,  0.0000000e+00],\n",
       "       [ 4.4408921e-16,  4.4408921e-16,  1.0000000e+00]])"
      ]
     },
     "execution_count": 49,
     "metadata": {},
     "output_type": "execute_result"
    }
   ],
   "source": [
    "resultado = b @ b_inv\n",
    "resultado"
   ]
  },
  {
   "cell_type": "code",
   "execution_count": 50,
   "id": "Mr1AYBjnnMh7",
   "metadata": {
    "colab": {
     "base_uri": "https://localhost:8080/"
    },
    "id": "Mr1AYBjnnMh7",
    "outputId": "b03b1bf4-e08b-4db7-bf11-84c5b6938335"
   },
   "outputs": [
    {
     "data": {
      "text/plain": [
       "array([[ 1.,  0., -0.],\n",
       "       [ 0.,  1.,  0.],\n",
       "       [ 0.,  0.,  1.]])"
      ]
     },
     "execution_count": 50,
     "metadata": {},
     "output_type": "execute_result"
    }
   ],
   "source": [
    "# el mismo resultado, pero redondeado para que sea más fácil de leer\n",
    "np.round(resultado)"
   ]
  },
  {
   "cell_type": "markdown",
   "id": "da452443-82d9-49cc-bef0-9377e996bd48",
   "metadata": {
    "id": "da452443-82d9-49cc-bef0-9377e996bd48"
   },
   "source": [
    "#### Ejercicio\n",
    "Calcula la traspuesta de `B`."
   ]
  },
  {
   "cell_type": "code",
   "execution_count": 51,
   "id": "02e1d6e4-b761-43e2-92cd-e51ad9e8a7de",
   "metadata": {
    "colab": {
     "base_uri": "https://localhost:8080/"
    },
    "id": "02e1d6e4-b761-43e2-92cd-e51ad9e8a7de",
    "outputId": "1aaf68a2-5f57-4401-e06b-a2671faeaa16"
   },
   "outputs": [
    {
     "data": {
      "text/plain": [
       "array([[ 1, -1,  1],\n",
       "       [ 0,  2, -1],\n",
       "       [ 2,  3,  0]])"
      ]
     },
     "execution_count": 51,
     "metadata": {},
     "output_type": "execute_result"
    }
   ],
   "source": [
    "b"
   ]
  },
  {
   "cell_type": "code",
   "execution_count": 52,
   "id": "qCbwcnOLofTs",
   "metadata": {
    "colab": {
     "base_uri": "https://localhost:8080/"
    },
    "id": "qCbwcnOLofTs",
    "outputId": "f0d6fc07-6348-4ad5-9493-23dcac9e4c47"
   },
   "outputs": [
    {
     "data": {
      "text/plain": [
       "array([[ 1,  0,  2],\n",
       "       [-1,  2,  3],\n",
       "       [ 1, -1,  0]])"
      ]
     },
     "execution_count": 52,
     "metadata": {},
     "output_type": "execute_result"
    }
   ],
   "source": [
    "b.T"
   ]
  },
  {
   "cell_type": "markdown",
   "id": "19087d26-c704-47b2-9244-aa166d03f1ef",
   "metadata": {
    "id": "19087d26-c704-47b2-9244-aa166d03f1ef"
   },
   "source": [
    "#### Ejercicio\n",
    "Multiplica `B` por 3 y suma al resultado la matriz `C`. Guarda el resultado en la matriz `D`:\n",
    "\n",
    "$$[D] = 3 \\times [B] + [C]$$"
   ]
  },
  {
   "cell_type": "code",
   "execution_count": 53,
   "id": "d0a1f0fe-13f8-4e58-9d56-844f1d58ad9a",
   "metadata": {
    "id": "d0a1f0fe-13f8-4e58-9d56-844f1d58ad9a"
   },
   "outputs": [],
   "source": [
    "C = [ [  0,  -1,  1 ],\n",
    "      [ -1,   0, -1 ],\n",
    "      [  1,  -1,  0 ] ]"
   ]
  },
  {
   "cell_type": "code",
   "execution_count": 54,
   "id": "bff361ff-bcc0-4db4-adbc-dab31eee461e",
   "metadata": {
    "colab": {
     "base_uri": "https://localhost:8080/"
    },
    "id": "bff361ff-bcc0-4db4-adbc-dab31eee461e",
    "outputId": "1d3ed565-deef-40ff-d15a-210498802457"
   },
   "outputs": [],
   "source": [
    "c = np.array(C)"
   ]
  },
  {
   "cell_type": "code",
   "execution_count": 55,
   "id": "H-ZfFV7PoGeK",
   "metadata": {
    "colab": {
     "base_uri": "https://localhost:8080/"
    },
    "id": "H-ZfFV7PoGeK",
    "outputId": "188876e8-aa90-49e2-c918-84860d31b898"
   },
   "outputs": [
    {
     "data": {
      "text/plain": [
       "array([[ 3, -4,  4],\n",
       "       [-1,  6, -4],\n",
       "       [ 7,  8,  0]])"
      ]
     },
     "execution_count": 55,
     "metadata": {},
     "output_type": "execute_result"
    }
   ],
   "source": [
    "3 * b + c"
   ]
  },
  {
   "cell_type": "markdown",
   "id": "12169220-4334-4265-b6d4-cf4b9615b175",
   "metadata": {
    "id": "12169220-4334-4265-b6d4-cf4b9615b175"
   },
   "source": [
    "#### Ejercicio\n",
    "\n",
    "Cambia la forma de la matriz `A` (**8x8** elementos) para que sea una matriz **4x16**."
   ]
  },
  {
   "cell_type": "code",
   "execution_count": 56,
   "id": "dc53e178-75aa-4fa5-b02c-ca56a2614324",
   "metadata": {
    "id": "dc53e178-75aa-4fa5-b02c-ca56a2614324"
   },
   "outputs": [
    {
     "data": {
      "text/plain": [
       "array([[7, 4, 3, 2, 6, 6, 7, 0, 4, 4, 4, 4, 7, 1, 4, 3],\n",
       "       [2, 7, 4, 8, 9, 4, 3, 5, 0, 9, 7, 1, 8, 0, 5, 4],\n",
       "       [8, 1, 4, 1, 5, 7, 1, 6, 2, 6, 4, 2, 8, 9, 3, 4],\n",
       "       [6, 7, 0, 3, 8, 1, 1, 7, 8, 4, 1, 6, 7, 2, 0, 4]])"
      ]
     },
     "execution_count": 56,
     "metadata": {},
     "output_type": "execute_result"
    }
   ],
   "source": [
    "a.reshape((4,16))"
   ]
  },
  {
   "cell_type": "markdown",
   "id": "d0a3ec33-fa99-4a7c-9597-ec564aa7aac3",
   "metadata": {
    "id": "d0a3ec33-fa99-4a7c-9597-ec564aa7aac3"
   },
   "source": [
    "---\n",
    "---\n",
    "## Markowitz\n",
    "\n",
    "Vamos a convertirnos en expertos en gestión de carteras de inversión:\n",
    "\n",
    "- El **retorno esperado** de una cartera:\n",
    "\n",
    "$$E(r_p) = \\sum_{i=1}^n{w_i E(r_i)}$$\n",
    "\n",
    "- La **volatilidad**  de una cartera:\n",
    "\n",
    "$$\\sigma_p^2 = \\sum_{i=1}^n \\sum_{j=1}^n {w_i w_j \\sigma_i \\sigma_j \\rho_{ij}}$$\n",
    "\n",
    "Y ahora, esas mismas expresiones en forma matricial (que es lo que usaremos en **numpy**):\n",
    "\n",
    "$$E(r_p) = \\vec w_i \\cdot \\vec R_i$$\n",
    "\n",
    "$$\\sigma_p^2 = \\vec w_i \\cdot \\left[ \\sigma_{ij} \\right] \\cdot {\\vec w_i}^T$$\n"
   ]
  },
  {
   "cell_type": "markdown",
   "id": "122eb9c7-ad90-41de-9818-ec013e042318",
   "metadata": {
    "id": "122eb9c7-ad90-41de-9818-ec013e042318"
   },
   "source": [
    "#### Ejercicio\n",
    "\n",
    "Calcula el retorno y la volatilidad de una cartera, dados los pesos de cada activo, su rentabilidad y la matriz de covarianzas."
   ]
  },
  {
   "cell_type": "code",
   "execution_count": 57,
   "id": "5a942fef-2169-4e89-9ed2-a9a8dc3b5657",
   "metadata": {
    "id": "5a942fef-2169-4e89-9ed2-a9a8dc3b5657"
   },
   "outputs": [],
   "source": [
    "retorno_anual_activos = [ 0.10, 0.05, 0.07 ]\n",
    "\n",
    "pesos_activos         = [ 0.20, 0.40, 0.40 ]\n",
    "\n",
    "covarianza_activos    = [ [ 0.05,  0.01,  0.02 ],\n",
    "                          [ 0.01,  0.07, -0.03 ],\n",
    "                          [ 0.02, -0.03,  0.03 ] ]"
   ]
  },
  {
   "cell_type": "code",
   "execution_count": 58,
   "id": "38df2c47-3229-4d09-805b-43efbe80784f",
   "metadata": {
    "id": "38df2c47-3229-4d09-805b-43efbe80784f"
   },
   "outputs": [],
   "source": [
    "r_i    = np.array(retorno_anual_activos)\n",
    "w_i    = np.array(pesos_activos)\n",
    "cov_ij = np.array(covarianza_activos)"
   ]
  },
  {
   "cell_type": "code",
   "execution_count": 59,
   "id": "dcbdb5fe-4ddd-448c-8056-43287a339738",
   "metadata": {
    "id": "dcbdb5fe-4ddd-448c-8056-43287a339738"
   },
   "outputs": [
    {
     "data": {
      "text/plain": [
       "0.06800000000000002"
      ]
     },
     "execution_count": 59,
     "metadata": {},
     "output_type": "execute_result"
    }
   ],
   "source": [
    "retorno_cartera = w_i @ r_i\n",
    "retorno_cartera"
   ]
  },
  {
   "cell_type": "code",
   "execution_count": 60,
   "id": "5504529d-4db9-4a9f-839f-170191c1f3ce",
   "metadata": {},
   "outputs": [
    {
     "data": {
      "text/plain": [
       "0.11489125293076059"
      ]
     },
     "execution_count": 60,
     "metadata": {},
     "output_type": "execute_result"
    }
   ],
   "source": [
    "volatilidad_cartera = np.sqrt( w_i @ cov_ij @ w_i.T )\n",
    "volatilidad_cartera"
   ]
  },
  {
   "cell_type": "markdown",
   "id": "1a8415b8-9cfb-49b6-b8f5-2375acbf5f0b",
   "metadata": {
    "id": "1a8415b8-9cfb-49b6-b8f5-2375acbf5f0b"
   },
   "source": [
    "---\n",
    "---\n",
    "## Ejercicios Hoja A"
   ]
  },
  {
   "cell_type": "markdown",
   "id": "d581b83d-7b52-4a97-a930-c6c3a12f0614",
   "metadata": {
    "id": "d581b83d-7b52-4a97-a930-c6c3a12f0614"
   },
   "source": [
    "#### 1. Cálculo del Total de Ventas Semanales\n",
    "Dado un array que representa las\n",
    "ventas diarias de un producto durante una semana, calcula el total de ventas de\n",
    "la semana."
   ]
  },
  {
   "cell_type": "code",
   "execution_count": 61,
   "id": "61d2f68d-fce9-4d27-964f-a0b7ea8afdf2",
   "metadata": {
    "id": "61d2f68d-fce9-4d27-964f-a0b7ea8afdf2"
   },
   "outputs": [],
   "source": [
    "ventas = [542, 540, 633, 682, 570, 982, 864]"
   ]
  },
  {
   "cell_type": "code",
   "execution_count": 62,
   "id": "8ce3d697-5bbe-47cc-8b61-f056fbaad799",
   "metadata": {
    "colab": {
     "base_uri": "https://localhost:8080/"
    },
    "id": "8ce3d697-5bbe-47cc-8b61-f056fbaad799",
    "outputId": "9ebbac3c-465b-4f3c-c069-2824c320ee70"
   },
   "outputs": [
    {
     "data": {
      "text/plain": [
       "4813"
      ]
     },
     "execution_count": 62,
     "metadata": {},
     "output_type": "execute_result"
    }
   ],
   "source": [
    "ventas_np = np.array(ventas)\n",
    "\n",
    "np.sum(ventas_np)"
   ]
  },
  {
   "cell_type": "markdown",
   "id": "dfab6c16-609e-467a-9727-0fc24352e384",
   "metadata": {
    "id": "dfab6c16-609e-467a-9727-0fc24352e384"
   },
   "source": [
    "#### 2. Ajuste de Precios de Productos\n",
    "Dado un array que contiene los precios de 7\n",
    "productos, aplica un aumento del 8% debido a un cambio en los costes de\n",
    "producción y muestra el nuevo array de precios."
   ]
  },
  {
   "cell_type": "code",
   "execution_count": 63,
   "id": "3fae8be5-2204-4aff-819d-c4ab7fe00fe4",
   "metadata": {
    "id": "3fae8be5-2204-4aff-819d-c4ab7fe00fe4"
   },
   "outputs": [],
   "source": [
    "precios = [830, 908, 511, 745, 892, 427, 344]"
   ]
  },
  {
   "cell_type": "code",
   "execution_count": 64,
   "id": "3a1e3301-c7cd-4947-b232-bfc153a82509",
   "metadata": {
    "colab": {
     "base_uri": "https://localhost:8080/"
    },
    "id": "3a1e3301-c7cd-4947-b232-bfc153a82509",
    "outputId": "ecd65b9c-3ff0-4012-e3c8-e87db1affa0c"
   },
   "outputs": [
    {
     "data": {
      "text/plain": [
       "array([896.4 , 980.64, 551.88, 804.6 , 963.36, 461.16, 371.52])"
      ]
     },
     "execution_count": 64,
     "metadata": {},
     "output_type": "execute_result"
    }
   ],
   "source": [
    "precios_np = np.array(precios)\n",
    "\n",
    "precios_finales = precios_np * 1.08\n",
    "\n",
    "precios_finales"
   ]
  },
  {
   "cell_type": "markdown",
   "id": "6357b4de-ed64-4ffc-8349-95865ad43a6c",
   "metadata": {
    "id": "6357b4de-ed64-4ffc-8349-95865ad43a6c"
   },
   "source": [
    "#### 3. Identificación de Tiendas con Menores Ventas\n",
    "Dado un array que contiene\n",
    "las ventas de un producto en 12 tiendas, identifica la tienda con la menor venta\n",
    "utilizando `np.argmin()`."
   ]
  },
  {
   "cell_type": "code",
   "execution_count": 65,
   "id": "abade9f0-6343-465f-ab41-294fff1a389a",
   "metadata": {
    "id": "abade9f0-6343-465f-ab41-294fff1a389a"
   },
   "outputs": [],
   "source": [
    "tiendas = [293, 846, 156, 767, 840, 394, 415, 815, 372, 758, 464, 615]"
   ]
  },
  {
   "cell_type": "code",
   "execution_count": 66,
   "id": "f61a2976-6712-4316-a328-5634185ac9be",
   "metadata": {
    "colab": {
     "base_uri": "https://localhost:8080/"
    },
    "id": "f61a2976-6712-4316-a328-5634185ac9be",
    "outputId": "37cc65c4-34bb-4b85-e60c-41a745452774"
   },
   "outputs": [
    {
     "data": {
      "text/plain": [
       "1"
      ]
     },
     "execution_count": 66,
     "metadata": {},
     "output_type": "execute_result"
    }
   ],
   "source": [
    "tiendas_np = np.array(tiendas)\n",
    "\n",
    "np.argmax(tiendas_np)"
   ]
  },
  {
   "cell_type": "markdown",
   "id": "3484c127-a8dc-4e66-9080-6b4285b8249e",
   "metadata": {
    "id": "3484c127-a8dc-4e66-9080-6b4285b8249e"
   },
   "source": [
    "#### 4. Distribución de Comisiones\n",
    "\n",
    "Dado un array que representa las ventas de 8\n",
    "vendedores, aplica una comisión del 5% sobre las ventas y muestra las\n",
    "comisiones para cada vendedor."
   ]
  },
  {
   "cell_type": "code",
   "execution_count": 67,
   "id": "5c28a8f5-7fff-41b4-a1f1-e173f81e493c",
   "metadata": {
    "id": "5c28a8f5-7fff-41b4-a1f1-e173f81e493c"
   },
   "outputs": [],
   "source": [
    "ventas = [60007, 74329, 79758, 77345, 55553, 98266, 96792, 80302]"
   ]
  },
  {
   "cell_type": "code",
   "execution_count": 68,
   "id": "d116cd3b-ea64-4056-b3a7-ca0adf2150a0",
   "metadata": {
    "colab": {
     "base_uri": "https://localhost:8080/"
    },
    "id": "d116cd3b-ea64-4056-b3a7-ca0adf2150a0",
    "outputId": "3ca13e2e-6b60-4991-8357-9e872d6f22b3"
   },
   "outputs": [
    {
     "data": {
      "text/plain": [
       "array([3000.35, 3716.45, 3987.9 , 3867.25, 2777.65, 4913.3 , 4839.6 ,\n",
       "       4015.1 ])"
      ]
     },
     "execution_count": 68,
     "metadata": {},
     "output_type": "execute_result"
    }
   ],
   "source": [
    "ventas_np = np.array(ventas)\n",
    "\n",
    "comision = ventas_np * 0.05\n",
    "\n",
    "comision"
   ]
  },
  {
   "cell_type": "markdown",
   "id": "a82bd4a0-c278-417a-8a78-64ae6abec355",
   "metadata": {
    "id": "a82bd4a0-c278-417a-8a78-64ae6abec355"
   },
   "source": [
    "#### 5. Comparación de Rendimiento de Marketing\n",
    "\n",
    "Tienes dos matrices que\n",
    "representan las ventas mensuales de 3 productos durante un año en dos\n",
    "campañas de marketing diferentes. Suma las matrices para obtener las ventas\n",
    "totales por producto en ambas campañas y calcula el porcentaje de cada campaña por producto."
   ]
  },
  {
   "cell_type": "code",
   "execution_count": 69,
   "id": "7b230044-1b43-4838-9cd6-2ce4fe4881c9",
   "metadata": {
    "id": "7b230044-1b43-4838-9cd6-2ce4fe4881c9"
   },
   "outputs": [],
   "source": [
    "campaign_a = [ [ 460, 745, 883, 209, 517, 289, 408, 636, 580, 819, 187, 705 ],\n",
    "               [ 250, 660, 210, 467, 643, 617,  59, 371, 396, 144, 831, 833 ],\n",
    "               [ 559, 871, 153, 178, 687, 387, 837, 989, 971, 640, 929, 151 ] ]\n",
    "\n",
    "campaign_b = [ [ 402, 171, 283, 887, 155, 627, 727, 608, 502, 705, 108, 358 ],\n",
    "               [ 898, 338, 834, 872, 267, 586, 489, 877, 520, 630, 169, 304 ],\n",
    "               [ 248, 404, 794, 583, 706, 282, 521, 621, 712, 576, 442, 655 ] ]"
   ]
  },
  {
   "cell_type": "code",
   "execution_count": 70,
   "id": "89142c92-c8a3-4ffa-9106-4f2963c4d17a",
   "metadata": {
    "id": "89142c92-c8a3-4ffa-9106-4f2963c4d17a"
   },
   "outputs": [],
   "source": [
    "a = np.array(campaign_a)\n",
    "b = np.array(campaign_b)"
   ]
  },
  {
   "cell_type": "code",
   "execution_count": 71,
   "id": "sJvBVWWptDst",
   "metadata": {
    "colab": {
     "base_uri": "https://localhost:8080/"
    },
    "id": "sJvBVWWptDst",
    "outputId": "fa018dec-19f2-4f7d-9124-f977193f1406"
   },
   "outputs": [
    {
     "data": {
      "text/plain": [
       "array([6438, 5481, 7352])"
      ]
     },
     "execution_count": 71,
     "metadata": {},
     "output_type": "execute_result"
    }
   ],
   "source": [
    "# calculamos total de ventas por producto en campaña A\n",
    "sum_a = np.sum(a, axis=1)\n",
    "sum_a"
   ]
  },
  {
   "cell_type": "code",
   "execution_count": 72,
   "id": "GOp1Bb-3tMys",
   "metadata": {
    "colab": {
     "base_uri": "https://localhost:8080/"
    },
    "id": "GOp1Bb-3tMys",
    "outputId": "ca5b5a89-81db-4524-f4f9-1b252152ecd1"
   },
   "outputs": [
    {
     "data": {
      "text/plain": [
       "array([5533, 6784, 6544])"
      ]
     },
     "execution_count": 72,
     "metadata": {},
     "output_type": "execute_result"
    }
   ],
   "source": [
    "# calculamos total de ventas por producto en campaña B\n",
    "sum_b = np.sum(b, axis=1)\n",
    "sum_b"
   ]
  },
  {
   "cell_type": "code",
   "execution_count": 73,
   "id": "DlaufOHFtUFI",
   "metadata": {
    "colab": {
     "base_uri": "https://localhost:8080/"
    },
    "id": "DlaufOHFtUFI",
    "outputId": "abf5078e-f6c7-4958-c363-c1042f868aaa"
   },
   "outputs": [
    {
     "data": {
      "text/plain": [
       "array([11971, 12265, 13896])"
      ]
     },
     "execution_count": 73,
     "metadata": {},
     "output_type": "execute_result"
    }
   ],
   "source": [
    "# calculamos el total de las ventas, incluyendo ambas campañas\n",
    "sum_total = sum_a + sum_b\n",
    "sum_total"
   ]
  },
  {
   "cell_type": "code",
   "execution_count": 74,
   "id": "3NRiSNvbtdIB",
   "metadata": {
    "colab": {
     "base_uri": "https://localhost:8080/"
    },
    "id": "3NRiSNvbtdIB",
    "outputId": "179ba185-9585-412e-c214-a60c1838a047"
   },
   "outputs": [
    {
     "data": {
      "text/plain": [
       "array([0.53779968, 0.44688137, 0.52907311])"
      ]
     },
     "execution_count": 74,
     "metadata": {},
     "output_type": "execute_result"
    }
   ],
   "source": [
    "# porcentaje por producto que representan las ventas en la campaña A sobre el total\n",
    "sum_a / sum_total"
   ]
  },
  {
   "cell_type": "code",
   "execution_count": 75,
   "id": "RMV5AIbRthQp",
   "metadata": {
    "colab": {
     "base_uri": "https://localhost:8080/"
    },
    "id": "RMV5AIbRthQp",
    "outputId": "625c4117-8ff9-429f-8764-aa4872b0c024"
   },
   "outputs": [
    {
     "data": {
      "text/plain": [
       "array([0.46220032, 0.55311863, 0.47092689])"
      ]
     },
     "execution_count": 75,
     "metadata": {},
     "output_type": "execute_result"
    }
   ],
   "source": [
    "# porcentaje por producto que representan las ventas en la campaña B sobre el total\n",
    "sum_b / sum_total"
   ]
  },
  {
   "cell_type": "markdown",
   "id": "6fd655a2-9148-432e-b5ac-20a3c4ad648a",
   "metadata": {
    "id": "6fd655a2-9148-432e-b5ac-20a3c4ad648a"
   },
   "source": [
    "#### 6. Gestión de Inventario en Almacenes\n",
    "\n",
    "Dada una matriz que representa el\n",
    "inventario de 6 productos en 4 almacenes, calcula el inventario total de cada\n",
    "producto sumando los inventarios de todos los almacenes."
   ]
  },
  {
   "cell_type": "code",
   "execution_count": 76,
   "id": "306a62db-1eec-42ad-9df5-c6cb83f46b5d",
   "metadata": {
    "id": "306a62db-1eec-42ad-9df5-c6cb83f46b5d"
   },
   "outputs": [],
   "source": [
    "inventory = [ [  2,  5, 12, 10 ],\n",
    "              [ 10, 19,  1, 12 ],\n",
    "              [  9,  7, 17,  5 ],\n",
    "              [ 19, 12, 16,  8 ],\n",
    "              [  3,  6,  4, 13 ],\n",
    "              [ 12, 14,  4,  5 ] ]"
   ]
  },
  {
   "cell_type": "code",
   "execution_count": 77,
   "id": "1ad342e8-ab29-4cfa-ad82-24f22338a8eb",
   "metadata": {
    "id": "1ad342e8-ab29-4cfa-ad82-24f22338a8eb"
   },
   "outputs": [],
   "source": [
    "inventory_np = np.array(inventory)"
   ]
  },
  {
   "cell_type": "code",
   "execution_count": 78,
   "id": "PAMwb0UsvCXM",
   "metadata": {
    "colab": {
     "base_uri": "https://localhost:8080/"
    },
    "id": "PAMwb0UsvCXM",
    "outputId": "cdbde15b-3e11-436d-f6fd-8e6d2d6bbb7a"
   },
   "outputs": [
    {
     "data": {
      "text/plain": [
       "array([29, 42, 38, 55, 26, 35])"
      ]
     },
     "execution_count": 78,
     "metadata": {},
     "output_type": "execute_result"
    }
   ],
   "source": [
    "# Inventario total por producto\n",
    "np.sum(inventory, axis=1)"
   ]
  },
  {
   "cell_type": "markdown",
   "id": "2bdca39a-7fa7-4dde-aa22-68d8df5e35e5",
   "metadata": {
    "id": "2bdca39a-7fa7-4dde-aa22-68d8df5e35e5"
   },
   "source": [
    "#### 7. Análisis de Precios con Descuentos\n",
    "Dado un tensor que contiene los precios\n",
    "de 5 productos en 4 tiendas durante 3 meses, aplica un descuento del 15% y\n",
    "calcula el precio promedio por producto en todas las tiendas y meses."
   ]
  },
  {
   "cell_type": "code",
   "execution_count": 79,
   "id": "57ef24a9-d547-48c3-8f93-fd29fe639be6",
   "metadata": {
    "id": "57ef24a9-d547-48c3-8f93-fd29fe639be6"
   },
   "outputs": [],
   "source": [
    "precios = [ [ [ 12, 13, 14, 13, 12 ],\n",
    "              [ 12, 18, 13, 13, 17 ],\n",
    "              [ 12, 18, 10, 11, 16 ],\n",
    "              [ 12, 19, 17, 10, 12 ] ],\n",
    "\n",
    "            [ [ 18, 15, 14, 19, 19 ],\n",
    "              [ 10, 14, 15, 17, 12 ],\n",
    "              [ 18, 16, 19, 15, 19 ],\n",
    "              [ 15, 14, 18, 13, 11 ] ],\n",
    "\n",
    "            [ [ 10, 15, 10, 19, 14 ],\n",
    "              [ 19, 16, 18, 17, 19 ],\n",
    "              [ 12, 12, 18, 14, 10 ],\n",
    "              [ 16, 11, 19, 15, 16 ] ] ]"
   ]
  },
  {
   "cell_type": "code",
   "execution_count": 80,
   "id": "bef480a8-1eae-4e2c-9261-334f875053c6",
   "metadata": {
    "colab": {
     "base_uri": "https://localhost:8080/"
    },
    "id": "bef480a8-1eae-4e2c-9261-334f875053c6",
    "outputId": "1b9df433-c7f6-4513-93bf-9650dd5f5066"
   },
   "outputs": [],
   "source": [
    "precios_np = np.array(precios)"
   ]
  },
  {
   "cell_type": "code",
   "execution_count": 81,
   "id": "d2RN301mvZ8k",
   "metadata": {
    "id": "d2RN301mvZ8k"
   },
   "outputs": [],
   "source": [
    "desc_precios = precios_np * 0.85"
   ]
  },
  {
   "cell_type": "code",
   "execution_count": 82,
   "id": "RQBJW47-338p",
   "metadata": {
    "colab": {
     "base_uri": "https://localhost:8080/"
    },
    "id": "RQBJW47-338p",
    "outputId": "936ef853-2298-402a-d598-f53d566f0ed7"
   },
   "outputs": [
    {
     "data": {
      "text/plain": [
       "array([[11.33333333, 12.18333333, 10.76666667, 14.45      , 12.75      ],\n",
       "       [11.61666667, 13.6       , 13.03333333, 13.31666667, 13.6       ],\n",
       "       [11.9       , 13.03333333, 13.31666667, 11.33333333, 12.75      ],\n",
       "       [12.18333333, 12.46666667, 15.3       , 10.76666667, 11.05      ]])"
      ]
     },
     "execution_count": 82,
     "metadata": {},
     "output_type": "execute_result"
    }
   ],
   "source": [
    "# precio promedio por producto (horizontal) y tienda (vertical)\n",
    "np.mean(desc_precios, axis=0)"
   ]
  },
  {
   "cell_type": "code",
   "execution_count": 83,
   "id": "LokRCBan37ob",
   "metadata": {
    "colab": {
     "base_uri": "https://localhost:8080/"
    },
    "id": "LokRCBan37ob",
    "outputId": "fd795185-1e52-4f4d-b616-185023321340"
   },
   "outputs": [
    {
     "data": {
      "text/plain": [
       "array([[10.2   , 14.45  , 11.475 ,  9.9875, 12.1125],\n",
       "       [12.9625, 12.5375, 14.025 , 13.6   , 12.9625],\n",
       "       [12.1125, 11.475 , 13.8125, 13.8125, 12.5375]])"
      ]
     },
     "execution_count": 83,
     "metadata": {},
     "output_type": "execute_result"
    }
   ],
   "source": [
    "# precio promedio por producto (horizontal) y mes (vertical)\n",
    "np.mean(desc_precios, axis=1)"
   ]
  },
  {
   "cell_type": "code",
   "execution_count": 84,
   "id": "S6SybWOv38AC",
   "metadata": {
    "colab": {
     "base_uri": "https://localhost:8080/"
    },
    "id": "S6SybWOv38AC",
    "outputId": "26c6b6c4-c60c-4d96-e536-26f105a991e5"
   },
   "outputs": [
    {
     "data": {
      "text/plain": [
       "array([[10.88, 12.41, 11.39, 11.9 ],\n",
       "       [14.45, 11.56, 14.79, 12.07],\n",
       "       [11.56, 15.13, 11.22, 13.09]])"
      ]
     },
     "execution_count": 84,
     "metadata": {},
     "output_type": "execute_result"
    }
   ],
   "source": [
    "# precio promedio por tienda (horizontal) y mes (vertical)\n",
    "np.mean(desc_precios, axis=2)"
   ]
  },
  {
   "cell_type": "markdown",
   "id": "bbac00de-27d9-4ec3-80da-fb63b9e7f3d7",
   "metadata": {
    "id": "bbac00de-27d9-4ec3-80da-fb63b9e7f3d7"
   },
   "source": [
    "#### 8. Evaluación de Rentabilidad Anual por Producto\n",
    "Dados dos tensores 3D que\n",
    "representan los ingresos y costes de 5 productos en 4 regiones durante 3 años\n",
    "(dimensiones: 3x4x5), calcula la rentabilidad anual para cada producto en cada\n",
    "región."
   ]
  },
  {
   "cell_type": "code",
   "execution_count": 85,
   "id": "bbb20752-61b2-4462-ab7c-06125dcf8e33",
   "metadata": {
    "id": "bbb20752-61b2-4462-ab7c-06125dcf8e33"
   },
   "outputs": [],
   "source": [
    "ingresos = [ [ [ 117, 115, 116, 117, 118 ],\n",
    "               [ 119, 117, 117, 116, 117 ],\n",
    "               [ 110, 117, 119, 118, 119 ],\n",
    "               [ 110, 118, 117, 111, 110 ] ],\n",
    "\n",
    "             [ [ 117, 116, 119, 115, 110 ],\n",
    "               [ 117, 115, 111, 113, 116 ],\n",
    "               [ 118, 118, 112, 110, 118 ],\n",
    "               [ 119, 117, 112, 115, 111 ] ],\n",
    "\n",
    "             [ [ 118, 110, 114, 118, 110 ],\n",
    "               [ 117, 110, 113, 117, 118 ],\n",
    "               [ 117, 114, 114, 113, 114 ],\n",
    "               [ 111, 118, 113, 115, 118 ] ] ]\n",
    "\n",
    "costes = [ [ [ 69, 67, 62, 60, 62 ],\n",
    "             [ 61, 67, 66, 65, 68 ],\n",
    "             [ 67, 65, 60, 68, 64 ],\n",
    "             [ 67, 68, 63, 65, 69 ] ],\n",
    "\n",
    "           [ [ 65, 63, 69, 61, 67 ],\n",
    "             [ 69, 62, 62, 62, 61 ],\n",
    "             [ 63, 67, 62, 69, 69 ],\n",
    "             [ 67, 67, 62, 69, 67 ] ],\n",
    "\n",
    "           [ [ 66, 68, 68, 63, 68 ],\n",
    "             [ 64, 61, 67, 65, 63 ],\n",
    "             [ 66, 69, 65, 68, 66 ],\n",
    "             [ 67, 67, 60, 61, 64 ] ] ]"
   ]
  },
  {
   "cell_type": "code",
   "execution_count": 86,
   "id": "105e7c85-72b8-45d3-8af4-4f42d892490a",
   "metadata": {
    "id": "105e7c85-72b8-45d3-8af4-4f42d892490a"
   },
   "outputs": [],
   "source": [
    "ingresos_np = np.array(ingresos)\n",
    "costes_np   = np.array(costes)\n",
    "\n",
    "beneficio_np = ingresos_np - costes_np"
   ]
  },
  {
   "cell_type": "code",
   "execution_count": 87,
   "id": "2ea825f5-82c4-47dd-9175-544c56bc00e5",
   "metadata": {},
   "outputs": [],
   "source": [
    "rentabilidad_np = beneficio_np / costes_np"
   ]
  },
  {
   "cell_type": "code",
   "execution_count": 88,
   "id": "c39e6fda-ff2b-49b0-a1a8-5ef3665a7645",
   "metadata": {},
   "outputs": [
    {
     "data": {
      "text/plain": [
       "array([[0.76117699, 0.7251116 , 0.75735867, 0.90275392, 0.72088797],\n",
       "       [0.82486562, 0.80146202, 0.74987234, 0.80239868, 0.83174782],\n",
       "       [0.7625114 , 0.73778931, 0.84787703, 0.66375391, 0.76559755],\n",
       "       [0.69154229, 0.7475856 , 0.84897593, 0.75320163, 0.69822311]])"
      ]
     },
     "execution_count": 88,
     "metadata": {},
     "output_type": "execute_result"
    }
   ],
   "source": [
    "# rentabilidad media anual por producto (horizontal) y región (vertical)\n",
    "np.mean(rentabilidad_np, axis=0)"
   ]
  },
  {
   "cell_type": "markdown",
   "id": "60995f02-73d8-4b4e-b956-fb43a2ba6d36",
   "metadata": {
    "id": "60995f02-73d8-4b4e-b956-fb43a2ba6d36"
   },
   "source": [
    "---\n",
    "---\n",
    "## Otros ejemplos"
   ]
  },
  {
   "cell_type": "markdown",
   "id": "3be91e00-6b7a-4418-8050-8a49c950a319",
   "metadata": {
    "id": "3be91e00-6b7a-4418-8050-8a49c950a319"
   },
   "source": [
    "#### 9. Sucursales\n",
    "\n",
    "Una empresa tiene 5 sucursales, y cada sucursal tiene un registro mensual de ventas durante los últimos 12 meses. Se te proporciona la información de las ventas de cada sucursal en un array de NumPy.\n",
    "\n",
    "- Calcula el total de ventas por sucursal.\n",
    "- Calcula el promedio de ventas mensual para cada sucursal.\n",
    "- Identifica el mes con la mayor venta en cada sucursal.\n",
    "- Calcula las ventas totales de todas las sucursales por mes.\n",
    "- Encuentra las sucursales que tuvieron al menos un mes con ventas por encima de 90,000.\n",
    "- Calcula el crecimiento porcentual de las ventas en cada sucursal comparando el primer mes y el último."
   ]
  },
  {
   "cell_type": "code",
   "execution_count": 89,
   "id": "9a97648f-1d7a-4e1e-85b5-3d9d10436085",
   "metadata": {
    "id": "9a97648f-1d7a-4e1e-85b5-3d9d10436085"
   },
   "outputs": [],
   "source": [
    "sucursales = [ [ 45000, 48000, 52000, 58000, 60000, 62000, 65000, 63000, 70000, 75000, 78000, 80000 ],\n",
    "               [ 55000, 53000, 57000, 59000, 61000, 64000, 66000, 68000, 71000, 76000, 80000, 85000 ],\n",
    "               [ 47000, 46000, 49000, 50000, 54000, 55000, 56000, 58000, 59000, 62000, 64000, 67000 ],\n",
    "               [ 60000, 62000, 63000, 65000, 67000, 70000, 73000, 75000, 77000, 80000, 82000, 85000 ],\n",
    "               [ 51000, 53000, 56000, 58000, 60000, 63000, 65000, 68000, 71000, 75000, 77000, 79000 ] ]"
   ]
  },
  {
   "cell_type": "code",
   "execution_count": 90,
   "id": "ead26473-a0ef-4bca-9397-35c1db1902eb",
   "metadata": {
    "id": "ead26473-a0ef-4bca-9397-35c1db1902eb"
   },
   "outputs": [],
   "source": [
    "sucursales_np = np.array(sucursales)"
   ]
  },
  {
   "cell_type": "code",
   "execution_count": 91,
   "id": "b0c2de7f-428e-4d49-bf14-3fb9c5d21110",
   "metadata": {
    "id": "b0c2de7f-428e-4d49-bf14-3fb9c5d21110"
   },
   "outputs": [
    {
     "data": {
      "text/plain": [
       "array([756000, 795000, 667000, 859000, 776000])"
      ]
     },
     "execution_count": 91,
     "metadata": {},
     "output_type": "execute_result"
    }
   ],
   "source": [
    "# ventas totales por sucursal\n",
    "np.sum(sucursales_np, axis=1)"
   ]
  },
  {
   "cell_type": "code",
   "execution_count": 92,
   "id": "456187ff-1cda-4be7-9cae-d9ef7b34216a",
   "metadata": {
    "id": "456187ff-1cda-4be7-9cae-d9ef7b34216a"
   },
   "outputs": [
    {
     "data": {
      "text/plain": [
       "array([63000.        , 66250.        , 55583.33333333, 71583.33333333,\n",
       "       64666.66666667])"
      ]
     },
     "execution_count": 92,
     "metadata": {},
     "output_type": "execute_result"
    }
   ],
   "source": [
    "# promedio de ventas por sucursal\n",
    "np.mean(sucursales_np, axis=1)"
   ]
  },
  {
   "cell_type": "code",
   "execution_count": 93,
   "id": "ec390741-60e5-4b71-9cb9-0be8073c3599",
   "metadata": {
    "id": "ec390741-60e5-4b71-9cb9-0be8073c3599"
   },
   "outputs": [
    {
     "data": {
      "text/plain": [
       "array([12, 12, 12, 12, 12])"
      ]
     },
     "execution_count": 93,
     "metadata": {},
     "output_type": "execute_result"
    }
   ],
   "source": [
    "# sumamos uno para empezar a contar los meses en 1 y no en 0\n",
    "np.argmax(sucursales_np, axis=1) + 1"
   ]
  },
  {
   "cell_type": "code",
   "execution_count": 94,
   "id": "559fb6d0-88da-4acb-bdf1-4cd51cff5cde",
   "metadata": {
    "id": "559fb6d0-88da-4acb-bdf1-4cd51cff5cde"
   },
   "outputs": [
    {
     "data": {
      "text/plain": [
       "array([258000, 262000, 277000, 290000, 302000, 314000, 325000, 332000,\n",
       "       348000, 368000, 381000, 396000])"
      ]
     },
     "execution_count": 94,
     "metadata": {},
     "output_type": "execute_result"
    }
   ],
   "source": [
    "# ventas totales por mes\n",
    "np.sum(sucursales_np, axis=0)"
   ]
  },
  {
   "cell_type": "code",
   "execution_count": 95,
   "id": "4beddb97-e1c0-4a47-b72b-2e5d980dda08",
   "metadata": {
    "id": "4beddb97-e1c0-4a47-b72b-2e5d980dda08"
   },
   "outputs": [
    {
     "data": {
      "text/plain": [
       "array([0.77777778, 0.54545455, 0.42553191, 0.41666667, 0.54901961])"
      ]
     },
     "execution_count": 95,
     "metadata": {},
     "output_type": "execute_result"
    }
   ],
   "source": [
    "ultimo  = sucursales_np[:,-1]\n",
    "primero = sucursales_np[:, 0]\n",
    "\n",
    "rentabilidad = (ultimo - primero) / primero\n",
    "\n",
    "rentabilidad"
   ]
  },
  {
   "cell_type": "markdown",
   "id": "d0468eea-dba2-4095-a8a4-5ab22ef2fb18",
   "metadata": {
    "id": "d0468eea-dba2-4095-a8a4-5ab22ef2fb18"
   },
   "source": [
    "#### 10. Predicción de precios\n",
    "Dada una serie de `precios` históricos, estima el siguiente valor de la serie empleando un modelo de regresión lineal:\n",
    "\n",
    "$$Y_i = \\alpha + \\beta \\times X_i$$\n",
    "\n",
    "Que en nuestro caso quedaría así, donde `t` es la posición en el array:\n",
    "\n",
    "$$precios_t = \\alpha + \\beta \\times t$$\n",
    "\n",
    "Si la serie temporal tiene `T` observaciones, tienes que:\n",
    "- Calcular $\\alpha$.\n",
    "- Calcular $\\beta$.\n",
    "- Estimar el siguiente precio, el que está en la posición `T` (recuerda que en Python se empieza a contar en 0).\n",
    "\n",
    "Como ayuda puedes emplear estas fórmulas:\n",
    "\n",
    "$$\\beta = \\frac{\\sum (X_i - \\bar X)(Y_i - \\bar Y)}{\\sum (X_i - \\bar X)^2}$$\n",
    "$$\\alpha = \\bar Y - \\beta \\bar X$$\n",
    "\n",
    "Donde $\\bar X$ y $\\bar Y$ son las medias."
   ]
  },
  {
   "cell_type": "code",
   "execution_count": 96,
   "id": "696a6295-cf0e-4224-8919-da17df97fb3e",
   "metadata": {
    "id": "696a6295-cf0e-4224-8919-da17df97fb3e"
   },
   "outputs": [],
   "source": [
    "def prediccion(serie):\n",
    "\n",
    "    n = len(serie)\n",
    "\n",
    "    x = np.arange(n)\n",
    "    y = np.array(serie)\n",
    "    mean_x = np.mean(x)\n",
    "    mean_y = np.mean(y)\n",
    "\n",
    "    beta = np.sum((x - mean_x) * (y - mean_y)) / np.sum((x - mean_x)**2)\n",
    "    alpha = mean_y - beta * mean_x\n",
    "    \n",
    "    forecast = alpha + beta * n\n",
    "\n",
    "    #print(f'{alpha=:.3} {beta=:.3} {forecast=:.3}')\n",
    "\n",
    "    return forecast"
   ]
  },
  {
   "cell_type": "code",
   "execution_count": 97,
   "id": "5fddf2a4-3559-4e34-9e65-d58f90c7743f",
   "metadata": {
    "id": "5fddf2a4-3559-4e34-9e65-d58f90c7743f"
   },
   "outputs": [
    {
     "data": {
      "text/plain": [
       "5.0"
      ]
     },
     "execution_count": 97,
     "metadata": {},
     "output_type": "execute_result"
    }
   ],
   "source": [
    "serie = [1, 2, 3, 4]\n",
    "\n",
    "prediccion(serie)"
   ]
  }
 ],
 "metadata": {
  "colab": {
   "provenance": []
  },
  "kernelspec": {
   "display_name": "Python 3 (ipykernel)",
   "language": "python",
   "name": "python3"
  },
  "language_info": {
   "codemirror_mode": {
    "name": "ipython",
    "version": 3
   },
   "file_extension": ".py",
   "mimetype": "text/x-python",
   "name": "python",
   "nbconvert_exporter": "python",
   "pygments_lexer": "ipython3",
   "version": "3.9.12"
  }
 },
 "nbformat": 4,
 "nbformat_minor": 5
}
