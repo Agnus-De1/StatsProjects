{
 "cells": [
  {
   "cell_type": "markdown",
   "id": "945bb255-25b2-4e31-869d-802a44b5ba78",
   "metadata": {
    "tags": []
   },
   "source": [
    "# NACHO DOCHAO & MAX VILARASAU #"
   ]
  },
  {
   "cell_type": "markdown",
   "id": "0630612d-20fc-4d52-8851-db8fecbff93d",
   "metadata": {
    "jp-MarkdownHeadingCollapsed": true,
    "tags": []
   },
   "source": [
    "# Import, Read & Display #"
   ]
  },
  {
   "cell_type": "code",
   "execution_count": 1,
   "id": "cc3e0226-8be4-483b-94b3-b801c20025ca",
   "metadata": {},
   "outputs": [
    {
     "data": {
      "text/html": [
       "<div>\n",
       "<style scoped>\n",
       "    .dataframe tbody tr th:only-of-type {\n",
       "        vertical-align: middle;\n",
       "    }\n",
       "\n",
       "    .dataframe tbody tr th {\n",
       "        vertical-align: top;\n",
       "    }\n",
       "\n",
       "    .dataframe thead th {\n",
       "        text-align: right;\n",
       "    }\n",
       "</style>\n",
       "<table border=\"1\" class=\"dataframe\">\n",
       "  <thead>\n",
       "    <tr style=\"text-align: right;\">\n",
       "      <th></th>\n",
       "      <th>wage</th>\n",
       "      <th>exper</th>\n",
       "      <th>looks</th>\n",
       "      <th>union</th>\n",
       "      <th>goodhlth</th>\n",
       "      <th>black</th>\n",
       "      <th>female</th>\n",
       "      <th>married</th>\n",
       "      <th>south</th>\n",
       "      <th>bigcity</th>\n",
       "      <th>smllcity</th>\n",
       "      <th>service</th>\n",
       "      <th>educ</th>\n",
       "    </tr>\n",
       "  </thead>\n",
       "  <tbody>\n",
       "    <tr>\n",
       "      <th>0</th>\n",
       "      <td>5.73</td>\n",
       "      <td>30.0</td>\n",
       "      <td>4.0</td>\n",
       "      <td>0.0</td>\n",
       "      <td>1.0</td>\n",
       "      <td>0.0</td>\n",
       "      <td>1.0</td>\n",
       "      <td>1.0</td>\n",
       "      <td>0.0</td>\n",
       "      <td>0.0</td>\n",
       "      <td>1.0</td>\n",
       "      <td>1.0</td>\n",
       "      <td>14.0</td>\n",
       "    </tr>\n",
       "    <tr>\n",
       "      <th>1</th>\n",
       "      <td>4.28</td>\n",
       "      <td>28.0</td>\n",
       "      <td>3.0</td>\n",
       "      <td>0.0</td>\n",
       "      <td>1.0</td>\n",
       "      <td>0.0</td>\n",
       "      <td>1.0</td>\n",
       "      <td>1.0</td>\n",
       "      <td>1.0</td>\n",
       "      <td>0.0</td>\n",
       "      <td>1.0</td>\n",
       "      <td>0.0</td>\n",
       "      <td>12.0</td>\n",
       "    </tr>\n",
       "    <tr>\n",
       "      <th>2</th>\n",
       "      <td>7.96</td>\n",
       "      <td>35.0</td>\n",
       "      <td>4.0</td>\n",
       "      <td>0.0</td>\n",
       "      <td>1.0</td>\n",
       "      <td>0.0</td>\n",
       "      <td>1.0</td>\n",
       "      <td>0.0</td>\n",
       "      <td>0.0</td>\n",
       "      <td>0.0</td>\n",
       "      <td>1.0</td>\n",
       "      <td>0.0</td>\n",
       "      <td>10.0</td>\n",
       "    </tr>\n",
       "    <tr>\n",
       "      <th>3</th>\n",
       "      <td>11.57</td>\n",
       "      <td>38.0</td>\n",
       "      <td>3.0</td>\n",
       "      <td>0.0</td>\n",
       "      <td>1.0</td>\n",
       "      <td>0.0</td>\n",
       "      <td>0.0</td>\n",
       "      <td>1.0</td>\n",
       "      <td>0.0</td>\n",
       "      <td>1.0</td>\n",
       "      <td>0.0</td>\n",
       "      <td>1.0</td>\n",
       "      <td>16.0</td>\n",
       "    </tr>\n",
       "    <tr>\n",
       "      <th>4</th>\n",
       "      <td>11.42</td>\n",
       "      <td>27.0</td>\n",
       "      <td>3.0</td>\n",
       "      <td>0.0</td>\n",
       "      <td>1.0</td>\n",
       "      <td>0.0</td>\n",
       "      <td>0.0</td>\n",
       "      <td>1.0</td>\n",
       "      <td>0.0</td>\n",
       "      <td>0.0</td>\n",
       "      <td>1.0</td>\n",
       "      <td>0.0</td>\n",
       "      <td>16.0</td>\n",
       "    </tr>\n",
       "    <tr>\n",
       "      <th>...</th>\n",
       "      <td>...</td>\n",
       "      <td>...</td>\n",
       "      <td>...</td>\n",
       "      <td>...</td>\n",
       "      <td>...</td>\n",
       "      <td>...</td>\n",
       "      <td>...</td>\n",
       "      <td>...</td>\n",
       "      <td>...</td>\n",
       "      <td>...</td>\n",
       "      <td>...</td>\n",
       "      <td>...</td>\n",
       "      <td>...</td>\n",
       "    </tr>\n",
       "    <tr>\n",
       "      <th>1255</th>\n",
       "      <td>1.61</td>\n",
       "      <td>25.0</td>\n",
       "      <td>3.0</td>\n",
       "      <td>0.0</td>\n",
       "      <td>1.0</td>\n",
       "      <td>1.0</td>\n",
       "      <td>1.0</td>\n",
       "      <td>0.0</td>\n",
       "      <td>0.0</td>\n",
       "      <td>0.0</td>\n",
       "      <td>0.0</td>\n",
       "      <td>1.0</td>\n",
       "      <td>12.0</td>\n",
       "    </tr>\n",
       "    <tr>\n",
       "      <th>1256</th>\n",
       "      <td>1.68</td>\n",
       "      <td>4.0</td>\n",
       "      <td>2.0</td>\n",
       "      <td>0.0</td>\n",
       "      <td>1.0</td>\n",
       "      <td>0.0</td>\n",
       "      <td>1.0</td>\n",
       "      <td>1.0</td>\n",
       "      <td>0.0</td>\n",
       "      <td>0.0</td>\n",
       "      <td>1.0</td>\n",
       "      <td>1.0</td>\n",
       "      <td>12.0</td>\n",
       "    </tr>\n",
       "    <tr>\n",
       "      <th>1257</th>\n",
       "      <td>3.29</td>\n",
       "      <td>35.0</td>\n",
       "      <td>3.0</td>\n",
       "      <td>0.0</td>\n",
       "      <td>1.0</td>\n",
       "      <td>1.0</td>\n",
       "      <td>1.0</td>\n",
       "      <td>0.0</td>\n",
       "      <td>0.0</td>\n",
       "      <td>0.0</td>\n",
       "      <td>1.0</td>\n",
       "      <td>1.0</td>\n",
       "      <td>12.0</td>\n",
       "    </tr>\n",
       "    <tr>\n",
       "      <th>1258</th>\n",
       "      <td>2.31</td>\n",
       "      <td>15.0</td>\n",
       "      <td>3.0</td>\n",
       "      <td>0.0</td>\n",
       "      <td>1.0</td>\n",
       "      <td>1.0</td>\n",
       "      <td>1.0</td>\n",
       "      <td>1.0</td>\n",
       "      <td>0.0</td>\n",
       "      <td>1.0</td>\n",
       "      <td>0.0</td>\n",
       "      <td>1.0</td>\n",
       "      <td>10.0</td>\n",
       "    </tr>\n",
       "    <tr>\n",
       "      <th>1259</th>\n",
       "      <td>1.92</td>\n",
       "      <td>24.0</td>\n",
       "      <td>3.0</td>\n",
       "      <td>0.0</td>\n",
       "      <td>0.0</td>\n",
       "      <td>0.0</td>\n",
       "      <td>1.0</td>\n",
       "      <td>0.0</td>\n",
       "      <td>1.0</td>\n",
       "      <td>0.0</td>\n",
       "      <td>1.0</td>\n",
       "      <td>1.0</td>\n",
       "      <td>16.0</td>\n",
       "    </tr>\n",
       "  </tbody>\n",
       "</table>\n",
       "<p>1260 rows × 13 columns</p>\n",
       "</div>"
      ],
      "text/plain": [
       "       wage  exper  looks  union  goodhlth  black  female  married  south  \\\n",
       "0      5.73   30.0    4.0    0.0       1.0    0.0     1.0      1.0    0.0   \n",
       "1      4.28   28.0    3.0    0.0       1.0    0.0     1.0      1.0    1.0   \n",
       "2      7.96   35.0    4.0    0.0       1.0    0.0     1.0      0.0    0.0   \n",
       "3     11.57   38.0    3.0    0.0       1.0    0.0     0.0      1.0    0.0   \n",
       "4     11.42   27.0    3.0    0.0       1.0    0.0     0.0      1.0    0.0   \n",
       "...     ...    ...    ...    ...       ...    ...     ...      ...    ...   \n",
       "1255   1.61   25.0    3.0    0.0       1.0    1.0     1.0      0.0    0.0   \n",
       "1256   1.68    4.0    2.0    0.0       1.0    0.0     1.0      1.0    0.0   \n",
       "1257   3.29   35.0    3.0    0.0       1.0    1.0     1.0      0.0    0.0   \n",
       "1258   2.31   15.0    3.0    0.0       1.0    1.0     1.0      1.0    0.0   \n",
       "1259   1.92   24.0    3.0    0.0       0.0    0.0     1.0      0.0    1.0   \n",
       "\n",
       "      bigcity  smllcity  service  educ  \n",
       "0         0.0       1.0      1.0  14.0  \n",
       "1         0.0       1.0      0.0  12.0  \n",
       "2         0.0       1.0      0.0  10.0  \n",
       "3         1.0       0.0      1.0  16.0  \n",
       "4         0.0       1.0      0.0  16.0  \n",
       "...       ...       ...      ...   ...  \n",
       "1255      0.0       0.0      1.0  12.0  \n",
       "1256      0.0       1.0      1.0  12.0  \n",
       "1257      0.0       1.0      1.0  12.0  \n",
       "1258      1.0       0.0      1.0  10.0  \n",
       "1259      0.0       1.0      1.0  16.0  \n",
       "\n",
       "[1260 rows x 13 columns]"
      ]
     },
     "execution_count": 1,
     "metadata": {},
     "output_type": "execute_result"
    }
   ],
   "source": [
    "import numpy as np\n",
    "import pandas as pd\n",
    "import matplotlib.pyplot as plt\n",
    "import seaborn as sns\n",
    "import statsmodels.formula.api as smf\n",
    "\n",
    "df=pd.read_excel('Beauty.xlsx')\n",
    "df"
   ]
  },
  {
   "cell_type": "markdown",
   "id": "75a22ed2-2ca7-4748-a740-985735b70d33",
   "metadata": {
    "jp-MarkdownHeadingCollapsed": true,
    "tags": []
   },
   "source": [
    "# Model Zero #"
   ]
  },
  {
   "cell_type": "code",
   "execution_count": 2,
   "id": "5d1e185a-d29c-4b4f-bfdb-2ce791b215ac",
   "metadata": {},
   "outputs": [
    {
     "name": "stdout",
     "output_type": "stream",
     "text": [
      "WAGE Male\n",
      "\n",
      "count    824.000000\n",
      "mean       7.368823\n",
      "std        4.592508\n",
      "min        1.050000\n",
      "25%        4.577500\n",
      "50%        6.410000\n",
      "75%        8.700000\n",
      "max       41.670000\n",
      "Name: wage, dtype: float64\n",
      "------------------------------\n",
      "WAGE Female\n",
      "\n",
      "count    436.000000\n",
      "mean       4.299358\n",
      "std        4.097392\n",
      "min        1.020000\n",
      "25%        2.470000\n",
      "50%        3.750000\n",
      "75%        5.160000\n",
      "max       77.720000\n",
      "Name: wage, dtype: float64\n",
      "------------------------------\n",
      "EXPER Male\n",
      "\n",
      "count    824.000000\n",
      "mean      20.356796\n",
      "std       12.175863\n",
      "min        0.000000\n",
      "25%       10.000000\n",
      "50%       18.000000\n",
      "75%       30.000000\n",
      "max       48.000000\n",
      "Name: exper, dtype: float64\n",
      "------------------------------\n",
      "EXPER Female\n",
      "\n",
      "count    436.000000\n",
      "mean      14.142202\n",
      "std       10.413429\n",
      "min        0.000000\n",
      "25%        6.000000\n",
      "50%       11.500000\n",
      "75%       20.000000\n",
      "max       47.000000\n",
      "Name: exper, dtype: float64\n",
      "------------------------------\n"
     ]
    }
   ],
   "source": [
    "m_wage = df.loc[df['female'] == 0, 'wage']\n",
    "m_exper = df.loc[df['female'] == 0, 'exper']\n",
    "f_wage = df.loc[df['female'] == 1, 'wage']\n",
    "f_exper = df.loc[df['female'] == 1, 'exper']\n",
    "\n",
    "print(f'WAGE Male\\n\\n{m_wage.describe()}')\n",
    "print('------------------------------')\n",
    "print(f'WAGE Female\\n\\n{f_wage.describe()}')\n",
    "print('------------------------------')\n",
    "print(f'EXPER Male\\n\\n{m_exper.describe()}')\n",
    "print('------------------------------')\n",
    "print(f'EXPER Female\\n\\n{f_exper.describe()}')\n",
    "print('------------------------------')"
   ]
  },
  {
   "cell_type": "code",
   "execution_count": 3,
   "id": "34037c5b-800b-47d5-afae-e83f75a12d61",
   "metadata": {},
   "outputs": [
    {
     "data": {
      "image/png": "[encoded data removed]",
      "text/plain": [
       "<Figure size 432x288 with 1 Axes>"
      ]
     },
     "metadata": {
      "needs_background": "light"
     },
     "output_type": "display_data"
    }
   ],
   "source": [
    "plt.hist(df['wage'], bins = 25)\n",
    "plt.show()"
   ]
  },
  {
   "cell_type": "code",
   "execution_count": 4,
   "id": "5c49a729-3d8a-424c-a6f6-06c6ecc7583c",
   "metadata": {},
   "outputs": [
    {
     "data": {
      "text/html": [
       "<div>\n",
       "<style scoped>\n",
       "    .dataframe tbody tr th:only-of-type {\n",
       "        vertical-align: middle;\n",
       "    }\n",
       "\n",
       "    .dataframe tbody tr th {\n",
       "        vertical-align: top;\n",
       "    }\n",
       "\n",
       "    .dataframe thead th {\n",
       "        text-align: right;\n",
       "    }\n",
       "</style>\n",
       "<table border=\"1\" class=\"dataframe\">\n",
       "  <thead>\n",
       "    <tr style=\"text-align: right;\">\n",
       "      <th></th>\n",
       "      <th>educ</th>\n",
       "      <th>exper</th>\n",
       "      <th>female</th>\n",
       "      <th>wage</th>\n",
       "      <th>service</th>\n",
       "    </tr>\n",
       "  </thead>\n",
       "  <tbody>\n",
       "    <tr>\n",
       "      <th>educ</th>\n",
       "      <td>1.000000</td>\n",
       "      <td>-0.186200</td>\n",
       "      <td>0.009105</td>\n",
       "      <td>0.212333</td>\n",
       "      <td>0.301628</td>\n",
       "    </tr>\n",
       "    <tr>\n",
       "      <th>exper</th>\n",
       "      <td>-0.186200</td>\n",
       "      <td>1.000000</td>\n",
       "      <td>-0.247209</td>\n",
       "      <td>0.234632</td>\n",
       "      <td>-0.057328</td>\n",
       "    </tr>\n",
       "    <tr>\n",
       "      <th>female</th>\n",
       "      <td>0.009105</td>\n",
       "      <td>-0.247209</td>\n",
       "      <td>1.000000</td>\n",
       "      <td>-0.313419</td>\n",
       "      <td>0.267961</td>\n",
       "    </tr>\n",
       "    <tr>\n",
       "      <th>wage</th>\n",
       "      <td>0.212333</td>\n",
       "      <td>0.234632</td>\n",
       "      <td>-0.313419</td>\n",
       "      <td>1.000000</td>\n",
       "      <td>-0.053653</td>\n",
       "    </tr>\n",
       "    <tr>\n",
       "      <th>service</th>\n",
       "      <td>0.301628</td>\n",
       "      <td>-0.057328</td>\n",
       "      <td>0.267961</td>\n",
       "      <td>-0.053653</td>\n",
       "      <td>1.000000</td>\n",
       "    </tr>\n",
       "  </tbody>\n",
       "</table>\n",
       "</div>"
      ],
      "text/plain": [
       "             educ     exper    female      wage   service\n",
       "educ     1.000000 -0.186200  0.009105  0.212333  0.301628\n",
       "exper   -0.186200  1.000000 -0.247209  0.234632 -0.057328\n",
       "female   0.009105 -0.247209  1.000000 -0.313419  0.267961\n",
       "wage     0.212333  0.234632 -0.313419  1.000000 -0.053653\n",
       "service  0.301628 -0.057328  0.267961 -0.053653  1.000000"
      ]
     },
     "execution_count": 4,
     "metadata": {},
     "output_type": "execute_result"
    }
   ],
   "source": [
    "abcd_vars = df[[\n",
    "    'educ',\n",
    "    'exper',\n",
    "    'female',\n",
    "    'wage',\n",
    "    'service'\n",
    "]]\n",
    "abcd_vars.corr()"
   ]
  },
  {
   "cell_type": "markdown",
   "id": "6597f3d1-252f-407c-a3e7-1b694b72e71c",
   "metadata": {
    "jp-MarkdownHeadingCollapsed": true,
    "tags": []
   },
   "source": [
    "# Model One #"
   ]
  },
  {
   "cell_type": "code",
   "execution_count": 5,
   "id": "d8b1dd46-f59d-4b4c-ad00-441933b49946",
   "metadata": {},
   "outputs": [
    {
     "name": "stdout",
     "output_type": "stream",
     "text": [
      "                            OLS Regression Results                            \n",
      "==============================================================================\n",
      "Dep. Variable:           np.log(wage)   R-squared:                       0.071\n",
      "Model:                            OLS   Adj. R-squared:                  0.070\n",
      "Method:                 Least Squares   F-statistic:                     95.89\n",
      "Date:                Sun, 08 Dec 2024   Prob (F-statistic):           7.18e-22\n",
      "Time:                        18:37:50   Log-Likelihood:                -1085.9\n",
      "No. Observations:                1260   AIC:                             2176.\n",
      "Df Residuals:                    1258   BIC:                             2186.\n",
      "Df Model:                           1                                         \n",
      "Covariance Type:            nonrobust                                         \n",
      "==============================================================================\n",
      "                 coef    std err          t      P>|t|      [0.025      0.975]\n",
      "------------------------------------------------------------------------------\n",
      "Intercept      0.9014      0.079     11.409      0.000       0.746       1.056\n",
      "educ           0.0603      0.006      9.792      0.000       0.048       0.072\n",
      "==============================================================================\n",
      "Omnibus:                       12.667   Durbin-Watson:                   1.542\n",
      "Prob(Omnibus):                  0.002   Jarque-Bera (JB):               17.173\n",
      "Skew:                           0.107   Prob(JB):                     0.000187\n",
      "Kurtosis:                       3.530   Cond. No.                         63.2\n",
      "==============================================================================\n",
      "\n",
      "Notes:\n",
      "[1] Standard Errors assume that the covariance matrix of the errors is correctly specified.\n"
     ]
    }
   ],
   "source": [
    "model_one = smf.ols('np.log(wage) ~ educ', data=df).fit()\n",
    "output_model = model_one\n",
    "print(output_model.summary())"
   ]
  },
  {
   "cell_type": "markdown",
   "id": "e06af772-52bb-401f-9d16-b9f74a75d6cc",
   "metadata": {
    "jp-MarkdownHeadingCollapsed": true,
    "tags": []
   },
   "source": [
    "# Model Two #"
   ]
  },
  {
   "cell_type": "code",
   "execution_count": 6,
   "id": "bbe6f6fd-0c94-4622-bd85-7fc9fbf1e52e",
   "metadata": {},
   "outputs": [
    {
     "name": "stdout",
     "output_type": "stream",
     "text": [
      "                            OLS Regression Results                            \n",
      "==============================================================================\n",
      "Dep. Variable:           np.log(wage)   R-squared:                       0.207\n",
      "Model:                            OLS   Adj. R-squared:                  0.205\n",
      "Method:                 Least Squares   F-statistic:                     109.0\n",
      "Date:                Sun, 08 Dec 2024   Prob (F-statistic):           1.05e-62\n",
      "Time:                        18:37:50   Log-Likelihood:                -986.41\n",
      "No. Observations:                1260   AIC:                             1981.\n",
      "Df Residuals:                    1256   BIC:                             2001.\n",
      "Df Model:                           3                                         \n",
      "Covariance Type:            nonrobust                                         \n",
      "==============================================================================\n",
      "                 coef    std err          t      P>|t|      [0.025      0.975]\n",
      "------------------------------------------------------------------------------\n",
      "Intercept      0.2035      0.104      1.953      0.051      -0.001       0.408\n",
      "educ           0.0739      0.006     12.642      0.000       0.062       0.085\n",
      "exper          0.0188      0.001     14.638      0.000       0.016       0.021\n",
      "looks          0.0582      0.022      2.614      0.009       0.015       0.102\n",
      "==============================================================================\n",
      "Omnibus:                       31.289   Durbin-Watson:                   1.704\n",
      "Prob(Omnibus):                  0.000   Jarque-Bera (JB):               62.833\n",
      "Skew:                           0.114   Prob(JB):                     2.27e-14\n",
      "Kurtosis:                       4.070   Cond. No.                         172.\n",
      "==============================================================================\n",
      "\n",
      "Notes:\n",
      "[1] Standard Errors assume that the covariance matrix of the errors is correctly specified.\n"
     ]
    }
   ],
   "source": [
    "model_two = smf.ols('np.log(wage) ~ educ + exper + looks', data=df).fit()\n",
    "output_model = model_two\n",
    "print(output_model.summary())"
   ]
  },
  {
   "cell_type": "markdown",
   "id": "67f771ff-0465-43f8-90b0-11c517d58e28",
   "metadata": {
    "jp-MarkdownHeadingCollapsed": true,
    "tags": []
   },
   "source": [
    "# Model Three #"
   ]
  },
  {
   "cell_type": "code",
   "execution_count": 7,
   "id": "32cd1fd5-5b7a-4750-86d6-72ffda204005",
   "metadata": {},
   "outputs": [
    {
     "name": "stdout",
     "output_type": "stream",
     "text": [
      "                            OLS Regression Results                            \n",
      "==============================================================================\n",
      "Dep. Variable:           np.log(wage)   R-squared:                       0.232\n",
      "Model:                            OLS   Adj. R-squared:                  0.230\n",
      "Method:                 Least Squares   F-statistic:                     94.91\n",
      "Date:                Sun, 08 Dec 2024   Prob (F-statistic):           1.38e-70\n",
      "Time:                        18:37:50   Log-Likelihood:                -965.63\n",
      "No. Observations:                1260   AIC:                             1941.\n",
      "Df Residuals:                    1255   BIC:                             1967.\n",
      "Df Model:                           4                                         \n",
      "Covariance Type:            nonrobust                                         \n",
      "======================================================================================\n",
      "                         coef    std err          t      P>|t|      [0.025      0.975]\n",
      "--------------------------------------------------------------------------------------\n",
      "Intercept              0.0463      0.105      0.439      0.660      -0.160       0.253\n",
      "educ                   0.0684      0.006     11.762      0.000       0.057       0.080\n",
      "exper                  0.0487      0.005     10.177      0.000       0.039       0.058\n",
      "np.power(exper, 2)    -0.0007      0.000     -6.487      0.000      -0.001      -0.000\n",
      "looks                  0.0621      0.022      2.831      0.005       0.019       0.105\n",
      "==============================================================================\n",
      "Omnibus:                       32.733   Durbin-Watson:                   1.701\n",
      "Prob(Omnibus):                  0.000   Jarque-Bera (JB):               72.173\n",
      "Skew:                           0.056   Prob(JB):                     2.13e-16\n",
      "Kurtosis:                       4.167   Cond. No.                     5.17e+03\n",
      "==============================================================================\n",
      "\n",
      "Notes:\n",
      "[1] Standard Errors assume that the covariance matrix of the errors is correctly specified.\n",
      "[2] The condition number is large, 5.17e+03. This might indicate that there are\n",
      "strong multicollinearity or other numerical problems.\n"
     ]
    }
   ],
   "source": [
    "model_three = smf.ols('np.log(wage) ~ educ + exper + np.power(exper, 2) + looks', data=df).fit()\n",
    "output_model = model_three\n",
    "print(output_model.summary())"
   ]
  },
  {
   "cell_type": "markdown",
   "id": "a43f9f31-914a-4ca3-a66d-18205975edb4",
   "metadata": {
    "jp-MarkdownHeadingCollapsed": true,
    "tags": []
   },
   "source": [
    "# Model Four #"
   ]
  },
  {
   "cell_type": "code",
   "execution_count": 8,
   "id": "fe1b5fd9-c467-4ea7-afbb-8ebeb1e66cb9",
   "metadata": {},
   "outputs": [
    {
     "name": "stdout",
     "output_type": "stream",
     "text": [
      "                            OLS Regression Results                            \n",
      "==============================================================================\n",
      "Dep. Variable:           np.log(wage)   R-squared:                       0.336\n",
      "Model:                            OLS   Adj. R-squared:                  0.334\n",
      "Method:                 Least Squares   F-statistic:                     158.8\n",
      "Date:                Sun, 08 Dec 2024   Prob (F-statistic):          5.55e-110\n",
      "Time:                        18:37:50   Log-Likelihood:                -874.18\n",
      "No. Observations:                1260   AIC:                             1758.\n",
      "Df Residuals:                    1255   BIC:                             1784.\n",
      "Df Model:                           4                                         \n",
      "Covariance Type:            nonrobust                                         \n",
      "==============================================================================\n",
      "                 coef    std err          t      P>|t|      [0.025      0.975]\n",
      "------------------------------------------------------------------------------\n",
      "Intercept      0.5061      0.097      5.203      0.000       0.315       0.697\n",
      "educ           0.0708      0.005     13.238      0.000       0.060       0.081\n",
      "exper          0.0140      0.001     11.577      0.000       0.012       0.016\n",
      "looks          0.0527      0.020      2.586      0.010       0.013       0.093\n",
      "female        -0.4643      0.030    -15.643      0.000      -0.523      -0.406\n",
      "==============================================================================\n",
      "Omnibus:                       54.959   Durbin-Watson:                   1.886\n",
      "Prob(Omnibus):                  0.000   Jarque-Bera (JB):              145.029\n",
      "Skew:                           0.174   Prob(JB):                     3.22e-32\n",
      "Kurtosis:                       4.625   Cond. No.                         176.\n",
      "==============================================================================\n",
      "\n",
      "Notes:\n",
      "[1] Standard Errors assume that the covariance matrix of the errors is correctly specified.\n"
     ]
    }
   ],
   "source": [
    "model_four = smf.ols('np.log(wage) ~ educ + exper + looks + female', data=df).fit()\n",
    "output_model = model_four\n",
    "print(output_model.summary())"
   ]
  },
  {
   "cell_type": "markdown",
   "id": "7cf4c064-5a22-46ab-8d1d-b8aa5c1c3916",
   "metadata": {
    "jp-MarkdownHeadingCollapsed": true,
    "tags": []
   },
   "source": [
    "# Model Five #"
   ]
  },
  {
   "cell_type": "code",
   "execution_count": 9,
   "id": "5430ca28-7c35-4c98-b34d-4cf5ff95a2b7",
   "metadata": {},
   "outputs": [
    {
     "data": {
      "text/plain": [
       "Index(['wage', 'exper', 'looks', 'union', 'goodhlth', 'black', 'female',\n",
       "       'married', 'south', 'bigcity', 'smllcity', 'service', 'educ'],\n",
       "      dtype='object')"
      ]
     },
     "execution_count": 9,
     "metadata": {},
     "output_type": "execute_result"
    }
   ],
   "source": [
    "df.columns"
   ]
  },
  {
   "cell_type": "code",
   "execution_count": 10,
   "id": "d9407a78-30b6-40c5-9e1e-62de7fd1e08d",
   "metadata": {},
   "outputs": [
    {
     "name": "stdout",
     "output_type": "stream",
     "text": [
      "                            OLS Regression Results                            \n",
      "==============================================================================\n",
      "Dep. Variable:           np.log(wage)   R-squared:                       0.391\n",
      "Model:                            OLS   Adj. R-squared:                  0.386\n",
      "Method:                 Least Squares   F-statistic:                     66.86\n",
      "Date:                Sun, 08 Dec 2024   Prob (F-statistic):          2.31e-125\n",
      "Time:                        18:37:50   Log-Likelihood:                -819.18\n",
      "No. Observations:                1260   AIC:                             1664.\n",
      "Df Residuals:                    1247   BIC:                             1731.\n",
      "Df Model:                          12                                         \n",
      "Covariance Type:            nonrobust                                         \n",
      "==============================================================================\n",
      "                 coef    std err          t      P>|t|      [0.025      0.975]\n",
      "------------------------------------------------------------------------------\n",
      "Intercept      0.2422      0.110      2.194      0.028       0.026       0.459\n",
      "exper          0.0134      0.001     11.163      0.000       0.011       0.016\n",
      "looks          0.0564      0.020      2.874      0.004       0.018       0.095\n",
      "union          0.1737      0.030      5.773      0.000       0.115       0.233\n",
      "goodhlth       0.0708      0.054      1.322      0.187      -0.034       0.176\n",
      "black         -0.0955      0.052     -1.839      0.066      -0.197       0.006\n",
      "female        -0.3821      0.031    -12.271      0.000      -0.443      -0.321\n",
      "married        0.0712      0.031      2.304      0.021       0.011       0.132\n",
      "south          0.0611      0.035      1.740      0.082      -0.008       0.130\n",
      "bigcity        0.2338      0.038      6.171      0.000       0.159       0.308\n",
      "smllcity       0.0929      0.031      3.013      0.003       0.032       0.153\n",
      "service       -0.1361      0.032     -4.192      0.000      -0.200      -0.072\n",
      "educ           0.0717      0.006     12.713      0.000       0.061       0.083\n",
      "==============================================================================\n",
      "Omnibus:                       86.720   Durbin-Watson:                   1.877\n",
      "Prob(Omnibus):                  0.000   Jarque-Bera (JB):              237.377\n",
      "Skew:                           0.351   Prob(JB):                     2.85e-52\n",
      "Kurtosis:                       5.007   Cond. No.                         214.\n",
      "==============================================================================\n",
      "\n",
      "Notes:\n",
      "[1] Standard Errors assume that the covariance matrix of the errors is correctly specified.\n"
     ]
    }
   ],
   "source": [
    "model_five = smf.ols('np.log(wage) ~ exper + looks + union + goodhlth + black + female + married + south + bigcity + smllcity + service + educ', data=df).fit()\n",
    "output_model = model_five\n",
    "print(output_model.summary())"
   ]
  },
  {
   "cell_type": "code",
   "execution_count": 11,
   "id": "ccff24ce-db26-443e-bbe6-2a2f844b0898",
   "metadata": {},
   "outputs": [
    {
     "data": {
      "text/plain": [
       "0       0.154259\n",
       "1      -0.107949\n",
       "2       0.638004\n",
       "3       0.139570\n",
       "4       0.278918\n",
       "          ...   \n",
       "1255   -0.588597\n",
       "1256   -0.467550\n",
       "1257   -0.100963\n",
       "1258   -0.254982\n",
       "1259   -0.864780\n",
       "Length: 1260, dtype: float64"
      ]
     },
     "execution_count": 11,
     "metadata": {},
     "output_type": "execute_result"
    }
   ],
   "source": [
    "total_residuals = model_five.resid\n",
    "total_residuals"
   ]
  },
  {
   "cell_type": "code",
   "execution_count": 12,
   "id": "5b47312f-1239-4609-bf0d-d3970635b031",
   "metadata": {},
   "outputs": [
    {
     "data": {
      "text/plain": [
       "6.200595592531499e-13"
      ]
     },
     "execution_count": 12,
     "metadata": {},
     "output_type": "execute_result"
    }
   ],
   "source": [
    "sum(total_residuals)"
   ]
  },
  {
   "cell_type": "markdown",
   "id": "72f88f67-303d-4432-bb35-2b107f5147ee",
   "metadata": {
    "jp-MarkdownHeadingCollapsed": true,
    "tags": []
   },
   "source": [
    "# Model Six #"
   ]
  },
  {
   "cell_type": "code",
   "execution_count": 13,
   "id": "3af705d8-1f3d-486d-b755-7616968ef2e0",
   "metadata": {},
   "outputs": [
    {
     "name": "stdout",
     "output_type": "stream",
     "text": [
      "                            OLS Regression Results                            \n",
      "==============================================================================\n",
      "Dep. Variable:           np.log(wage)   R-squared:                       0.211\n",
      "Model:                            OLS   Adj. R-squared:                  0.208\n",
      "Method:                 Least Squares   F-statistic:                     83.89\n",
      "Date:                Sun, 08 Dec 2024   Prob (F-statistic):           3.57e-63\n",
      "Time:                        18:37:50   Log-Likelihood:                -982.86\n",
      "No. Observations:                1260   AIC:                             1976.\n",
      "Df Residuals:                    1255   BIC:                             2001.\n",
      "Df Model:                           4                                         \n",
      "Covariance Type:            nonrobust                                         \n",
      "==============================================================================\n",
      "                 coef    std err          t      P>|t|      [0.025      0.975]\n",
      "------------------------------------------------------------------------------\n",
      "Intercept      0.4175      0.083      5.043      0.000       0.255       0.580\n",
      "educ           0.0743      0.006     12.756      0.000       0.063       0.086\n",
      "exper          0.0184      0.001     14.335      0.000       0.016       0.021\n",
      "pretty        -0.0165      0.034     -0.487      0.627      -0.083       0.050\n",
      "ugly          -0.1742      0.047     -3.714      0.000      -0.266      -0.082\n",
      "==============================================================================\n",
      "Omnibus:                       33.163   Durbin-Watson:                   1.708\n",
      "Prob(Omnibus):                  0.000   Jarque-Bera (JB):               69.196\n",
      "Skew:                           0.110   Prob(JB):                     9.42e-16\n",
      "Kurtosis:                       4.127   Cond. No.                         136.\n",
      "==============================================================================\n",
      "\n",
      "Notes:\n",
      "[1] Standard Errors assume that the covariance matrix of the errors is correctly specified.\n"
     ]
    }
   ],
   "source": [
    "df['pretty'] = np.where(df['looks'].isin([4, 5]), 1, 0)\n",
    "df['ugly'] = np.where(df['looks'].isin([1, 2]), 1, 0)\n",
    "\n",
    "model_six = smf.ols('np.log(wage) ~ educ + exper + pretty + ugly', data=df).fit()\n",
    "output_model = model_six\n",
    "print(output_model.summary())"
   ]
  },
  {
   "cell_type": "code",
   "execution_count": 14,
   "id": "0a8906c6-6d90-424f-a80d-f430649b2668",
   "metadata": {},
   "outputs": [
    {
     "name": "stdout",
     "output_type": "stream",
     "text": [
      "theres a total of 155 uglies in the df\n"
     ]
    }
   ],
   "source": [
    "total_uglies = sum(df['ugly'])\n",
    "print(f'theres a total of {total_uglies} uglies in the df')"
   ]
  },
  {
   "cell_type": "code",
   "execution_count": 16,
   "id": "6b35db1a-0ac7-4c95-aecc-b502b7801631",
   "metadata": {},
   "outputs": [
    {
     "name": "stdout",
     "output_type": "stream",
     "text": [
      "Al añadir 'mid' al modelo seis podemos encontrar problemas de multicolinealidad\n",
      "\n",
      "                            OLS Regression Results                            \n",
      "==============================================================================\n",
      "Dep. Variable:           np.log(wage)   R-squared:                       0.211\n",
      "Model:                            OLS   Adj. R-squared:                  0.208\n",
      "Method:                 Least Squares   F-statistic:                     83.89\n",
      "Date:                Sun, 08 Dec 2024   Prob (F-statistic):           3.57e-63\n",
      "Time:                        18:40:32   Log-Likelihood:                -982.86\n",
      "No. Observations:                1260   AIC:                             1976.\n",
      "Df Residuals:                    1255   BIC:                             2001.\n",
      "Df Model:                           4                                         \n",
      "Covariance Type:            nonrobust                                         \n",
      "==============================================================================\n",
      "                 coef    std err          t      P>|t|      [0.025      0.975]\n",
      "------------------------------------------------------------------------------\n",
      "Intercept      0.2654      0.061      4.319      0.000       0.145       0.386\n",
      "educ           0.0743      0.006     12.756      0.000       0.063       0.086\n",
      "exper          0.0184      0.001     14.335      0.000       0.016       0.021\n",
      "pretty         0.1355      0.032      4.204      0.000       0.072       0.199\n",
      "ugly          -0.0222      0.038     -0.591      0.555      -0.096       0.051\n",
      "mid            0.1521      0.028      5.386      0.000       0.097       0.207\n",
      "==============================================================================\n",
      "Omnibus:                       33.163   Durbin-Watson:                   1.708\n",
      "Prob(Omnibus):                  0.000   Jarque-Bera (JB):               69.196\n",
      "Skew:                           0.110   Prob(JB):                     9.42e-16\n",
      "Kurtosis:                       4.127   Cond. No.                     2.76e+17\n",
      "==============================================================================\n",
      "\n",
      "Notes:\n",
      "[1] Standard Errors assume that the covariance matrix of the errors is correctly specified.\n",
      "[2] The smallest eigenvalue is 9.79e-30. This might indicate that there are\n",
      "strong multicollinearity problems or that the design matrix is singular.\n"
     ]
    }
   ],
   "source": [
    "print(\"Al añadir 'mid' al modelo seis podemos encontrar problemas de multicolinealidad\\n\")\n",
    "\n",
    "df['mid'] = np.where(df['looks'].isin([3]), 1, 0)\n",
    "\n",
    "model_six_2 = smf.ols('np.log(wage) ~ educ + exper + pretty + ugly + mid', data=df).fit()\n",
    "print(model_six_2.summary())"
   ]
  }
 ],
 "metadata": {
  "kernelspec": {
   "display_name": "Python 3 (ipykernel)",
   "language": "python",
   "name": "python3"
  },
  "language_info": {
   "codemirror_mode": {
    "name": "ipython",
    "version": 3
   },
   "file_extension": ".py",
   "mimetype": "text/x-python",
   "name": "python",
   "nbconvert_exporter": "python",
   "pygments_lexer": "ipython3",
   "version": "3.9.12"
  }
 },
 "nbformat": 4,
 "nbformat_minor": 5
}
